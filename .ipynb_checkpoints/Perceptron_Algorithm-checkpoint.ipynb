{
 "cells": [
  {
   "cell_type": "code",
   "execution_count": 1,
   "id": "c0e9357a-48b5-4d48-938a-d42a667adca5",
   "metadata": {},
   "outputs": [],
   "source": [
    "import numpy as np"
   ]
  },
  {
   "cell_type": "markdown",
   "id": "baa63af1-1b73-47c9-8133-fd6145c87acb",
   "metadata": {
    "jp-MarkdownHeadingCollapsed": true,
    "tags": []
   },
   "source": [
    "# Decision Region"
   ]
  },
  {
   "cell_type": "code",
   "execution_count": 2,
   "id": "80611a50-0996-4d1d-bdcc-19a0a11cae99",
   "metadata": {},
   "outputs": [],
   "source": [
    "import numpy as np\n",
    "import matplotlib.pyplot as plt\n",
    "import math\n",
    "\n",
    "class CPlane():\n",
    "  def __init__(self,rows,cols):\n",
    "    self.rows = rows\n",
    "    self.cols = cols\n",
    "    self.origin = dict({'r':math.floor(rows/2), 'c':math.floor(cols/2)})\n",
    "    self.screen = self.__get_screen()\n",
    "  \n",
    "  def __get_screen(self):\n",
    "    screen = np.zeros((self.rows, self.cols))\n",
    "    return screen\n",
    "  \n",
    "  def set(self,x,y, value):\n",
    "    self.screen[self.origin['r']-y][self.origin['c']+x]=value\n",
    "  \n",
    "  def get_corners(self):\n",
    "    maxx = self.origin['c'] - (1 if self.cols%2==0 else 0)\n",
    "    maxy = self.origin['r'] - (1 if self.rows%2==0 else 0)\n",
    "    tl = (-self.origin['c'], self.origin['r'])\n",
    "    tr = (maxx, self.origin['r'])\n",
    "    bl= (-self.origin['c'], -maxy)\n",
    "    br = (maxx,-maxy)\n",
    "    return tl, tr, bl, br\n",
    "\n",
    "  def show(self, figsize=(10,10)):\n",
    "    #TODO axes off\n",
    "    plt.figure(figsize=figsize)\n",
    "    plt.xticks([self.origin['c']], labels=['0'])\n",
    "    plt.yticks([self.origin['r']], labels=['0'])\n",
    "    plt.imshow(self.screen, interpolation=None)\n",
    "  \n",
    "\n",
    "s = CPlane(100,100)"
   ]
  },
  {
   "cell_type": "markdown",
   "id": "91ba2d50-6a13-4db5-acfa-36afb23bc5ff",
   "metadata": {},
   "source": [
    "# Generating Data"
   ]
  },
  {
   "cell_type": "code",
   "execution_count": 3,
   "id": "fbbf10bb-1746-4fd1-9099-16ad227fdc43",
   "metadata": {},
   "outputs": [],
   "source": [
    "from sklearn.datasets import make_classification #to create the dataset\n",
    "import matplotlib.pyplot as plt"
   ]
  },
  {
   "cell_type": "code",
   "execution_count": 4,
   "id": "a4f11a2a-5578-4873-bdd9-94429c0f2089",
   "metadata": {},
   "outputs": [],
   "source": [
    "# Create a binary class dataset \n",
    "X,y = make_classification(n_samples=200,n_features=2,n_informative=2,n_classes=2, n_redundant=0)"
   ]
  },
  {
   "cell_type": "code",
   "execution_count": 5,
   "id": "5fbba855-3d0f-4e08-8b22-f0c33058d73e",
   "metadata": {},
   "outputs": [
    {
     "data": {
      "image/png": "[encoded data removed]",
      "text/plain": [
       "<Figure size 432x288 with 1 Axes>"
      ]
     },
     "metadata": {
      "needs_background": "light"
     },
     "output_type": "display_data"
    }
   ],
   "source": [
    "#Plot the distribution of dataset\n",
    "colors = [\"blue\",\"green\"]\n",
    "plt.scatter(X[:,0], X[:,1], color=[ colors[i] for i in y])\n",
    "plt.xlabel(\"x\")\n",
    "plt.ylabel(\"y\")\n",
    "plt.title(\"Distribution of data\")\n",
    "plt.show()"
   ]
  },
  {
   "cell_type": "code",
   "execution_count": 6,
   "id": "b57f6aa6-e1e9-447a-b20c-60d0d879ca74",
   "metadata": {},
   "outputs": [
    {
     "data": {
      "text/plain": [
       "(200, 2)"
      ]
     },
     "execution_count": 6,
     "metadata": {},
     "output_type": "execute_result"
    }
   ],
   "source": [
    "X.shape"
   ]
  },
  {
   "cell_type": "code",
   "execution_count": 7,
   "id": "2d9a44b8-82d1-4a23-87d9-54f5984d0ded",
   "metadata": {},
   "outputs": [
    {
     "data": {
      "text/plain": [
       "(200,)"
      ]
     },
     "execution_count": 7,
     "metadata": {},
     "output_type": "execute_result"
    }
   ],
   "source": [
    "y.shape"
   ]
  },
  {
   "cell_type": "markdown",
   "id": "b24e0908-e375-4d40-93da-32b5a6f490db",
   "metadata": {},
   "source": [
    "# Perceptron Algorithm"
   ]
  },
  {
   "cell_type": "markdown",
   "id": "c37b63e6-4f57-42b0-9708-864804d05a77",
   "metadata": {},
   "source": [
    "```\n",
    "P <- Inputs with label 1  \n",
    "N <- Inputs with label 0  \n",
    "w <- Initialize randomly\n",
    "\n",
    "while (!convergence)  \n",
    "do,  \n",
    "    Pick a random x in X\n",
    "  \n",
    "        if ( x belongs to P) and (w.x < 0)  \n",
    "        then,\n",
    "            w <- w+x\n",
    "        else if ( x belongs to N) and (w.x >= 0)\n",
    "        then,\n",
    "            w <- w-x\n",
    "        endif\n",
    "endwhile\n",
    "\n",
    "//algorithm converges when all the inputs are classified correctly\n",
    "```"
   ]
  },
  {
   "cell_type": "markdown",
   "id": "cb409ecc-c474-4caa-9d30-4716a10d6477",
   "metadata": {},
   "source": [
    "# Defining Perceptron Model"
   ]
  },
  {
   "cell_type": "code",
   "execution_count": 8,
   "id": "b33dd9df-52ab-4db4-bc4c-f0e3d3c388f7",
   "metadata": {},
   "outputs": [],
   "source": [
    "class Perceptron():\n",
    "  def __init__(self, n):\n",
    "    '''n: Feature dimension.'''\n",
    "    self.w = np.random.rand(n)  #random initialization\n",
    "    \n",
    "  def predict(self,x):\n",
    "    if len(x)==len(self.w):\n",
    "      return self.w@x\n",
    "    return None"
   ]
  },
  {
   "cell_type": "code",
   "execution_count": 9,
   "id": "f7e514f9-9661-4ab8-a4f8-76eb0abd4d5b",
   "metadata": {},
   "outputs": [],
   "source": [
    "P = Perceptron(n=2)"
   ]
  },
  {
   "cell_type": "code",
   "execution_count": 10,
   "id": "7c73db47-b3e3-4eec-b861-3e78b1a527ec",
   "metadata": {},
   "outputs": [
    {
     "data": {
      "text/plain": [
       "-0.8793496218844213"
      ]
     },
     "execution_count": 10,
     "metadata": {},
     "output_type": "execute_result"
    }
   ],
   "source": [
    "P.predict(X[0]) #sample prediction"
   ]
  },
  {
   "cell_type": "markdown",
   "id": "aea483f4-4b97-4d62-9434-03d59a98dd84",
   "metadata": {},
   "source": [
    "# Training Perceptron"
   ]
  },
  {
   "cell_type": "code",
   "execution_count": 11,
   "id": "13dcb320-3b77-4c44-9231-f7541e58fef9",
   "metadata": {},
   "outputs": [],
   "source": [
    "def convergence(model, X,y):\n",
    "  for i in range(len(X)):\n",
    "    if model.predict(X[i])<0 and y[i]==1:\n",
    "      return False\n",
    "    if model.predict(X[i])>=0 and y[i]==0:\n",
    "      return False\n",
    "  return True\n",
    "\n",
    "\n",
    "def train(model, X,y):\n",
    "  \n",
    "  LIMIT = len(y)*20; # the model may not converge; stop after certain number of iteration\n",
    "  iter=0\n",
    "  while (not convergence(model,X,y)) and iter<LIMIT:\n",
    "\n",
    "    idx = np.random.randint(low=0, high=len(X))\n",
    "    x = X[idx]\n",
    "    \n",
    "    if model.predict(x)<0 and y[idx]==1:\n",
    "      model.w += x\n",
    "    if model.predict(x)>=0 and y[idx]==0:\n",
    "      model.w -=x\n",
    "    iter +=1"
   ]
  },
  {
   "cell_type": "code",
   "execution_count": 12,
   "id": "49297816-8d13-4895-8e26-f738186f09e0",
   "metadata": {},
   "outputs": [],
   "source": [
    "train(P,X,y)"
   ]
  },
  {
   "cell_type": "markdown",
   "id": "355a6a84-2573-4e98-a906-50e8c31dc7ab",
   "metadata": {},
   "source": [
    "# Visualizing Decision Boundary"
   ]
  },
  {
   "cell_type": "code",
   "execution_count": 13,
   "id": "0f91aeb1-7293-42c9-b542-1197a10f00e7",
   "metadata": {},
   "outputs": [
    {
     "data": {
      "image/png": "[encoded data removed]",
      "text/plain": [
       "<Figure size 432x288 with 1 Axes>"
      ]
     },
     "metadata": {
      "needs_background": "light"
     },
     "output_type": "display_data"
    }
   ],
   "source": [
    "#distribution of dataset\n",
    "colors = [\"blue\",\"green\"]\n",
    "plt.scatter(X[:,0], X[:,1], color=[ colors[i] for i in y])\n",
    "\n",
    "samplex = [X[:,0].min(), X[:,0].max()]\n",
    "boundary = lambda x: -(P.w[0]/P.w[1])*x\n",
    "yy = [boundary(e) for e in samplex]\n",
    "\n",
    "plt.plot(samplex, yy, color=\"red\", label=\"Decision Boundary\")\n",
    "\n",
    "plt.xlabel(\"x\")\n",
    "plt.ylabel(\"y\")\n",
    "plt.title(\"Distribution of data\")\n",
    "plt.show()"
   ]
  },
  {
   "cell_type": "code",
   "execution_count": 14,
   "id": "489a0259-0add-46e9-b2f6-1ed06694225b",
   "metadata": {},
   "outputs": [
    {
     "data": {
      "image/png": "[encoded data removed]",
      "text/plain": [
       "<Figure size 720x720 with 1 Axes>"
      ]
     },
     "metadata": {
      "needs_background": "light"
     },
     "output_type": "display_data"
    }
   ],
   "source": [
    "s = CPlane(int(abs(X[:,1]).max()*100)*2+1, int(abs(X[:,0]).max()*100)*2+1)\n",
    "tl,tr,bl,br = s.get_corners()\n",
    "\n",
    "for x in range(tl[0],br[0]+1):\n",
    "  for yy in range(tl[1], br[1]-1, -1):\n",
    "    s.set(x,yy,0 if P.predict([x,yy])<0 else 1)\n",
    "\n",
    "s.show()\n"
   ]
  }
 ],
 "metadata": {
  "kernelspec": {
   "display_name": "Python 3 (ipykernel)",
   "language": "python",
   "name": "python3"
  },
  "language_info": {
   "codemirror_mode": {
    "name": "ipython",
    "version": 3
   },
   "file_extension": ".py",
   "mimetype": "text/x-python",
   "name": "python",
   "nbconvert_exporter": "python",
   "pygments_lexer": "ipython3",
   "version": "3.8.10"
  }
 },
 "nbformat": 4,
 "nbformat_minor": 5
}
