{
  "nbformat": 4,
  "nbformat_minor": 0,
  "metadata": {
    "colab": {
      "provenance": []
    },
    "kernelspec": {
      "name": "python3",
      "display_name": "Python 3"
    },
    "language_info": {
      "name": "python"
    },
    "accelerator": "GPU",
    "gpuClass": "standard",
    "widgets": {
      "application/vnd.jupyter.widget-state+json": {
        "9f564fb00546456aaf8a8034d0860cbc": {
          "model_module": "@jupyter-widgets/controls",
          "model_name": "HBoxModel",
          "model_module_version": "1.5.0",
          "state": {
            "_dom_classes": [],
            "_model_module": "@jupyter-widgets/controls",
            "_model_module_version": "1.5.0",
            "_model_name": "HBoxModel",
            "_view_count": null,
            "_view_module": "@jupyter-widgets/controls",
            "_view_module_version": "1.5.0",
            "_view_name": "HBoxView",
            "box_style": "",
            "children": [
              "IPY_MODEL_ac99f1fc746f4d8e8826f71816700dec",
              "IPY_MODEL_512752e4becb4562953ab351cb4891fa",
              "IPY_MODEL_37fa1572d60549449e5527e2b9788874"
            ],
            "layout": "IPY_MODEL_c546f396518545f4ae07ad4c78dfdf1f"
          }
        },
        "ac99f1fc746f4d8e8826f71816700dec": {
          "model_module": "@jupyter-widgets/controls",
          "model_name": "HTMLModel",
          "model_module_version": "1.5.0",
          "state": {
            "_dom_classes": [],
            "_model_module": "@jupyter-widgets/controls",
            "_model_module_version": "1.5.0",
            "_model_name": "HTMLModel",
            "_view_count": null,
            "_view_module": "@jupyter-widgets/controls",
            "_view_module_version": "1.5.0",
            "_view_name": "HTMLView",
            "description": "",
            "description_tooltip": null,
            "layout": "IPY_MODEL_e6d1db08ec0e4227b3de03aa4fbc0b0c",
            "placeholder": "​",
            "style": "IPY_MODEL_ed2f5626cdf74c43afd5cca8f0dc6945",
            "value": "100%"
          }
        },
        "512752e4becb4562953ab351cb4891fa": {
          "model_module": "@jupyter-widgets/controls",
          "model_name": "FloatProgressModel",
          "model_module_version": "1.5.0",
          "state": {
            "_dom_classes": [],
            "_model_module": "@jupyter-widgets/controls",
            "_model_module_version": "1.5.0",
            "_model_name": "FloatProgressModel",
            "_view_count": null,
            "_view_module": "@jupyter-widgets/controls",
            "_view_module_version": "1.5.0",
            "_view_name": "ProgressView",
            "bar_style": "success",
            "description": "",
            "description_tooltip": null,
            "layout": "IPY_MODEL_d38ee18290784371abc57184e560ea52",
            "max": 9912422,
            "min": 0,
            "orientation": "horizontal",
            "style": "IPY_MODEL_8531188c6e21485e834b3fae3e07bcd8",
            "value": 9912422
          }
        },
        "37fa1572d60549449e5527e2b9788874": {
          "model_module": "@jupyter-widgets/controls",
          "model_name": "HTMLModel",
          "model_module_version": "1.5.0",
          "state": {
            "_dom_classes": [],
            "_model_module": "@jupyter-widgets/controls",
            "_model_module_version": "1.5.0",
            "_model_name": "HTMLModel",
            "_view_count": null,
            "_view_module": "@jupyter-widgets/controls",
            "_view_module_version": "1.5.0",
            "_view_name": "HTMLView",
            "description": "",
            "description_tooltip": null,
            "layout": "IPY_MODEL_dd51f452d8434be1bcad47e00bb6f19d",
            "placeholder": "​",
            "style": "IPY_MODEL_18c42e64ee2e456bb18d884a5620c39e",
            "value": " 9912422/9912422 [00:00&lt;00:00, 33643189.75it/s]"
          }
        },
        "c546f396518545f4ae07ad4c78dfdf1f": {
          "model_module": "@jupyter-widgets/base",
          "model_name": "LayoutModel",
          "model_module_version": "1.2.0",
          "state": {
            "_model_module": "@jupyter-widgets/base",
            "_model_module_version": "1.2.0",
            "_model_name": "LayoutModel",
            "_view_count": null,
            "_view_module": "@jupyter-widgets/base",
            "_view_module_version": "1.2.0",
            "_view_name": "LayoutView",
            "align_content": null,
            "align_items": null,
            "align_self": null,
            "border": null,
            "bottom": null,
            "display": null,
            "flex": null,
            "flex_flow": null,
            "grid_area": null,
            "grid_auto_columns": null,
            "grid_auto_flow": null,
            "grid_auto_rows": null,
            "grid_column": null,
            "grid_gap": null,
            "grid_row": null,
            "grid_template_areas": null,
            "grid_template_columns": null,
            "grid_template_rows": null,
            "height": null,
            "justify_content": null,
            "justify_items": null,
            "left": null,
            "margin": null,
            "max_height": null,
            "max_width": null,
            "min_height": null,
            "min_width": null,
            "object_fit": null,
            "object_position": null,
            "order": null,
            "overflow": null,
            "overflow_x": null,
            "overflow_y": null,
            "padding": null,
            "right": null,
            "top": null,
            "visibility": null,
            "width": null
          }
        },
        "e6d1db08ec0e4227b3de03aa4fbc0b0c": {
          "model_module": "@jupyter-widgets/base",
          "model_name": "LayoutModel",
          "model_module_version": "1.2.0",
          "state": {
            "_model_module": "@jupyter-widgets/base",
            "_model_module_version": "1.2.0",
            "_model_name": "LayoutModel",
            "_view_count": null,
            "_view_module": "@jupyter-widgets/base",
            "_view_module_version": "1.2.0",
            "_view_name": "LayoutView",
            "align_content": null,
            "align_items": null,
            "align_self": null,
            "border": null,
            "bottom": null,
            "display": null,
            "flex": null,
            "flex_flow": null,
            "grid_area": null,
            "grid_auto_columns": null,
            "grid_auto_flow": null,
            "grid_auto_rows": null,
            "grid_column": null,
            "grid_gap": null,
            "grid_row": null,
            "grid_template_areas": null,
            "grid_template_columns": null,
            "grid_template_rows": null,
            "height": null,
            "justify_content": null,
            "justify_items": null,
            "left": null,
            "margin": null,
            "max_height": null,
            "max_width": null,
            "min_height": null,
            "min_width": null,
            "object_fit": null,
            "object_position": null,
            "order": null,
            "overflow": null,
            "overflow_x": null,
            "overflow_y": null,
            "padding": null,
            "right": null,
            "top": null,
            "visibility": null,
            "width": null
          }
        },
        "ed2f5626cdf74c43afd5cca8f0dc6945": {
          "model_module": "@jupyter-widgets/controls",
          "model_name": "DescriptionStyleModel",
          "model_module_version": "1.5.0",
          "state": {
            "_model_module": "@jupyter-widgets/controls",
            "_model_module_version": "1.5.0",
            "_model_name": "DescriptionStyleModel",
            "_view_count": null,
            "_view_module": "@jupyter-widgets/base",
            "_view_module_version": "1.2.0",
            "_view_name": "StyleView",
            "description_width": ""
          }
        },
        "d38ee18290784371abc57184e560ea52": {
          "model_module": "@jupyter-widgets/base",
          "model_name": "LayoutModel",
          "model_module_version": "1.2.0",
          "state": {
            "_model_module": "@jupyter-widgets/base",
            "_model_module_version": "1.2.0",
            "_model_name": "LayoutModel",
            "_view_count": null,
            "_view_module": "@jupyter-widgets/base",
            "_view_module_version": "1.2.0",
            "_view_name": "LayoutView",
            "align_content": null,
            "align_items": null,
            "align_self": null,
            "border": null,
            "bottom": null,
            "display": null,
            "flex": null,
            "flex_flow": null,
            "grid_area": null,
            "grid_auto_columns": null,
            "grid_auto_flow": null,
            "grid_auto_rows": null,
            "grid_column": null,
            "grid_gap": null,
            "grid_row": null,
            "grid_template_areas": null,
            "grid_template_columns": null,
            "grid_template_rows": null,
            "height": null,
            "justify_content": null,
            "justify_items": null,
            "left": null,
            "margin": null,
            "max_height": null,
            "max_width": null,
            "min_height": null,
            "min_width": null,
            "object_fit": null,
            "object_position": null,
            "order": null,
            "overflow": null,
            "overflow_x": null,
            "overflow_y": null,
            "padding": null,
            "right": null,
            "top": null,
            "visibility": null,
            "width": null
          }
        },
        "8531188c6e21485e834b3fae3e07bcd8": {
          "model_module": "@jupyter-widgets/controls",
          "model_name": "ProgressStyleModel",
          "model_module_version": "1.5.0",
          "state": {
            "_model_module": "@jupyter-widgets/controls",
            "_model_module_version": "1.5.0",
            "_model_name": "ProgressStyleModel",
            "_view_count": null,
            "_view_module": "@jupyter-widgets/base",
            "_view_module_version": "1.2.0",
            "_view_name": "StyleView",
            "bar_color": null,
            "description_width": ""
          }
        },
        "dd51f452d8434be1bcad47e00bb6f19d": {
          "model_module": "@jupyter-widgets/base",
          "model_name": "LayoutModel",
          "model_module_version": "1.2.0",
          "state": {
            "_model_module": "@jupyter-widgets/base",
            "_model_module_version": "1.2.0",
            "_model_name": "LayoutModel",
            "_view_count": null,
            "_view_module": "@jupyter-widgets/base",
            "_view_module_version": "1.2.0",
            "_view_name": "LayoutView",
            "align_content": null,
            "align_items": null,
            "align_self": null,
            "border": null,
            "bottom": null,
            "display": null,
            "flex": null,
            "flex_flow": null,
            "grid_area": null,
            "grid_auto_columns": null,
            "grid_auto_flow": null,
            "grid_auto_rows": null,
            "grid_column": null,
            "grid_gap": null,
            "grid_row": null,
            "grid_template_areas": null,
            "grid_template_columns": null,
            "grid_template_rows": null,
            "height": null,
            "justify_content": null,
            "justify_items": null,
            "left": null,
            "margin": null,
            "max_height": null,
            "max_width": null,
            "min_height": null,
            "min_width": null,
            "object_fit": null,
            "object_position": null,
            "order": null,
            "overflow": null,
            "overflow_x": null,
            "overflow_y": null,
            "padding": null,
            "right": null,
            "top": null,
            "visibility": null,
            "width": null
          }
        },
        "18c42e64ee2e456bb18d884a5620c39e": {
          "model_module": "@jupyter-widgets/controls",
          "model_name": "DescriptionStyleModel",
          "model_module_version": "1.5.0",
          "state": {
            "_model_module": "@jupyter-widgets/controls",
            "_model_module_version": "1.5.0",
            "_model_name": "DescriptionStyleModel",
            "_view_count": null,
            "_view_module": "@jupyter-widgets/base",
            "_view_module_version": "1.2.0",
            "_view_name": "StyleView",
            "description_width": ""
          }
        },
        "a94ba8418b2141dc8f62b23699ebeee5": {
          "model_module": "@jupyter-widgets/controls",
          "model_name": "HBoxModel",
          "model_module_version": "1.5.0",
          "state": {
            "_dom_classes": [],
            "_model_module": "@jupyter-widgets/controls",
            "_model_module_version": "1.5.0",
            "_model_name": "HBoxModel",
            "_view_count": null,
            "_view_module": "@jupyter-widgets/controls",
            "_view_module_version": "1.5.0",
            "_view_name": "HBoxView",
            "box_style": "",
            "children": [
              "IPY_MODEL_1abad8d4624f4f2da9e9f93a15e46da6",
              "IPY_MODEL_0c81cafef99e47e382bbb0c6da0770f3",
              "IPY_MODEL_ee8405fa6541428581666f44ae6b5802"
            ],
            "layout": "IPY_MODEL_17e9b292f5464707b624d50e3f2d2c27"
          }
        },
        "1abad8d4624f4f2da9e9f93a15e46da6": {
          "model_module": "@jupyter-widgets/controls",
          "model_name": "HTMLModel",
          "model_module_version": "1.5.0",
          "state": {
            "_dom_classes": [],
            "_model_module": "@jupyter-widgets/controls",
            "_model_module_version": "1.5.0",
            "_model_name": "HTMLModel",
            "_view_count": null,
            "_view_module": "@jupyter-widgets/controls",
            "_view_module_version": "1.5.0",
            "_view_name": "HTMLView",
            "description": "",
            "description_tooltip": null,
            "layout": "IPY_MODEL_5a50f7802b104629aa144099947e5208",
            "placeholder": "​",
            "style": "IPY_MODEL_74c8411449584474abd743d5e56e918d",
            "value": "100%"
          }
        },
        "0c81cafef99e47e382bbb0c6da0770f3": {
          "model_module": "@jupyter-widgets/controls",
          "model_name": "FloatProgressModel",
          "model_module_version": "1.5.0",
          "state": {
            "_dom_classes": [],
            "_model_module": "@jupyter-widgets/controls",
            "_model_module_version": "1.5.0",
            "_model_name": "FloatProgressModel",
            "_view_count": null,
            "_view_module": "@jupyter-widgets/controls",
            "_view_module_version": "1.5.0",
            "_view_name": "ProgressView",
            "bar_style": "success",
            "description": "",
            "description_tooltip": null,
            "layout": "IPY_MODEL_1335b9fca0d947998424504b5856c84a",
            "max": 28881,
            "min": 0,
            "orientation": "horizontal",
            "style": "IPY_MODEL_f248f19524164b85becfbba29de7138d",
            "value": 28881
          }
        },
        "ee8405fa6541428581666f44ae6b5802": {
          "model_module": "@jupyter-widgets/controls",
          "model_name": "HTMLModel",
          "model_module_version": "1.5.0",
          "state": {
            "_dom_classes": [],
            "_model_module": "@jupyter-widgets/controls",
            "_model_module_version": "1.5.0",
            "_model_name": "HTMLModel",
            "_view_count": null,
            "_view_module": "@jupyter-widgets/controls",
            "_view_module_version": "1.5.0",
            "_view_name": "HTMLView",
            "description": "",
            "description_tooltip": null,
            "layout": "IPY_MODEL_552b08e2e6834b70a441d6cc20924538",
            "placeholder": "​",
            "style": "IPY_MODEL_b38fde77933e49238ab250892136de25",
            "value": " 28881/28881 [00:00&lt;00:00, 1615121.05it/s]"
          }
        },
        "17e9b292f5464707b624d50e3f2d2c27": {
          "model_module": "@jupyter-widgets/base",
          "model_name": "LayoutModel",
          "model_module_version": "1.2.0",
          "state": {
            "_model_module": "@jupyter-widgets/base",
            "_model_module_version": "1.2.0",
            "_model_name": "LayoutModel",
            "_view_count": null,
            "_view_module": "@jupyter-widgets/base",
            "_view_module_version": "1.2.0",
            "_view_name": "LayoutView",
            "align_content": null,
            "align_items": null,
            "align_self": null,
            "border": null,
            "bottom": null,
            "display": null,
            "flex": null,
            "flex_flow": null,
            "grid_area": null,
            "grid_auto_columns": null,
            "grid_auto_flow": null,
            "grid_auto_rows": null,
            "grid_column": null,
            "grid_gap": null,
            "grid_row": null,
            "grid_template_areas": null,
            "grid_template_columns": null,
            "grid_template_rows": null,
            "height": null,
            "justify_content": null,
            "justify_items": null,
            "left": null,
            "margin": null,
            "max_height": null,
            "max_width": null,
            "min_height": null,
            "min_width": null,
            "object_fit": null,
            "object_position": null,
            "order": null,
            "overflow": null,
            "overflow_x": null,
            "overflow_y": null,
            "padding": null,
            "right": null,
            "top": null,
            "visibility": null,
            "width": null
          }
        },
        "5a50f7802b104629aa144099947e5208": {
          "model_module": "@jupyter-widgets/base",
          "model_name": "LayoutModel",
          "model_module_version": "1.2.0",
          "state": {
            "_model_module": "@jupyter-widgets/base",
            "_model_module_version": "1.2.0",
            "_model_name": "LayoutModel",
            "_view_count": null,
            "_view_module": "@jupyter-widgets/base",
            "_view_module_version": "1.2.0",
            "_view_name": "LayoutView",
            "align_content": null,
            "align_items": null,
            "align_self": null,
            "border": null,
            "bottom": null,
            "display": null,
            "flex": null,
            "flex_flow": null,
            "grid_area": null,
            "grid_auto_columns": null,
            "grid_auto_flow": null,
            "grid_auto_rows": null,
            "grid_column": null,
            "grid_gap": null,
            "grid_row": null,
            "grid_template_areas": null,
            "grid_template_columns": null,
            "grid_template_rows": null,
            "height": null,
            "justify_content": null,
            "justify_items": null,
            "left": null,
            "margin": null,
            "max_height": null,
            "max_width": null,
            "min_height": null,
            "min_width": null,
            "object_fit": null,
            "object_position": null,
            "order": null,
            "overflow": null,
            "overflow_x": null,
            "overflow_y": null,
            "padding": null,
            "right": null,
            "top": null,
            "visibility": null,
            "width": null
          }
        },
        "74c8411449584474abd743d5e56e918d": {
          "model_module": "@jupyter-widgets/controls",
          "model_name": "DescriptionStyleModel",
          "model_module_version": "1.5.0",
          "state": {
            "_model_module": "@jupyter-widgets/controls",
            "_model_module_version": "1.5.0",
            "_model_name": "DescriptionStyleModel",
            "_view_count": null,
            "_view_module": "@jupyter-widgets/base",
            "_view_module_version": "1.2.0",
            "_view_name": "StyleView",
            "description_width": ""
          }
        },
        "1335b9fca0d947998424504b5856c84a": {
          "model_module": "@jupyter-widgets/base",
          "model_name": "LayoutModel",
          "model_module_version": "1.2.0",
          "state": {
            "_model_module": "@jupyter-widgets/base",
            "_model_module_version": "1.2.0",
            "_model_name": "LayoutModel",
            "_view_count": null,
            "_view_module": "@jupyter-widgets/base",
            "_view_module_version": "1.2.0",
            "_view_name": "LayoutView",
            "align_content": null,
            "align_items": null,
            "align_self": null,
            "border": null,
            "bottom": null,
            "display": null,
            "flex": null,
            "flex_flow": null,
            "grid_area": null,
            "grid_auto_columns": null,
            "grid_auto_flow": null,
            "grid_auto_rows": null,
            "grid_column": null,
            "grid_gap": null,
            "grid_row": null,
            "grid_template_areas": null,
            "grid_template_columns": null,
            "grid_template_rows": null,
            "height": null,
            "justify_content": null,
            "justify_items": null,
            "left": null,
            "margin": null,
            "max_height": null,
            "max_width": null,
            "min_height": null,
            "min_width": null,
            "object_fit": null,
            "object_position": null,
            "order": null,
            "overflow": null,
            "overflow_x": null,
            "overflow_y": null,
            "padding": null,
            "right": null,
            "top": null,
            "visibility": null,
            "width": null
          }
        },
        "f248f19524164b85becfbba29de7138d": {
          "model_module": "@jupyter-widgets/controls",
          "model_name": "ProgressStyleModel",
          "model_module_version": "1.5.0",
          "state": {
            "_model_module": "@jupyter-widgets/controls",
            "_model_module_version": "1.5.0",
            "_model_name": "ProgressStyleModel",
            "_view_count": null,
            "_view_module": "@jupyter-widgets/base",
            "_view_module_version": "1.2.0",
            "_view_name": "StyleView",
            "bar_color": null,
            "description_width": ""
          }
        },
        "552b08e2e6834b70a441d6cc20924538": {
          "model_module": "@jupyter-widgets/base",
          "model_name": "LayoutModel",
          "model_module_version": "1.2.0",
          "state": {
            "_model_module": "@jupyter-widgets/base",
            "_model_module_version": "1.2.0",
            "_model_name": "LayoutModel",
            "_view_count": null,
            "_view_module": "@jupyter-widgets/base",
            "_view_module_version": "1.2.0",
            "_view_name": "LayoutView",
            "align_content": null,
            "align_items": null,
            "align_self": null,
            "border": null,
            "bottom": null,
            "display": null,
            "flex": null,
            "flex_flow": null,
            "grid_area": null,
            "grid_auto_columns": null,
            "grid_auto_flow": null,
            "grid_auto_rows": null,
            "grid_column": null,
            "grid_gap": null,
            "grid_row": null,
            "grid_template_areas": null,
            "grid_template_columns": null,
            "grid_template_rows": null,
            "height": null,
            "justify_content": null,
            "justify_items": null,
            "left": null,
            "margin": null,
            "max_height": null,
            "max_width": null,
            "min_height": null,
            "min_width": null,
            "object_fit": null,
            "object_position": null,
            "order": null,
            "overflow": null,
            "overflow_x": null,
            "overflow_y": null,
            "padding": null,
            "right": null,
            "top": null,
            "visibility": null,
            "width": null
          }
        },
        "b38fde77933e49238ab250892136de25": {
          "model_module": "@jupyter-widgets/controls",
          "model_name": "DescriptionStyleModel",
          "model_module_version": "1.5.0",
          "state": {
            "_model_module": "@jupyter-widgets/controls",
            "_model_module_version": "1.5.0",
            "_model_name": "DescriptionStyleModel",
            "_view_count": null,
            "_view_module": "@jupyter-widgets/base",
            "_view_module_version": "1.2.0",
            "_view_name": "StyleView",
            "description_width": ""
          }
        },
        "a1fb45a5a7454812b3d458a7c4b6236a": {
          "model_module": "@jupyter-widgets/controls",
          "model_name": "HBoxModel",
          "model_module_version": "1.5.0",
          "state": {
            "_dom_classes": [],
            "_model_module": "@jupyter-widgets/controls",
            "_model_module_version": "1.5.0",
            "_model_name": "HBoxModel",
            "_view_count": null,
            "_view_module": "@jupyter-widgets/controls",
            "_view_module_version": "1.5.0",
            "_view_name": "HBoxView",
            "box_style": "",
            "children": [
              "IPY_MODEL_dd7ba5cc52864a54b99b737836353ec8",
              "IPY_MODEL_7ec42925b28c49cea15be6fc9b0aaa5a",
              "IPY_MODEL_7380654b69414a20ba1ddf7d0d97e6bb"
            ],
            "layout": "IPY_MODEL_1a1dc327b5a2440ca73878cce3164b4f"
          }
        },
        "dd7ba5cc52864a54b99b737836353ec8": {
          "model_module": "@jupyter-widgets/controls",
          "model_name": "HTMLModel",
          "model_module_version": "1.5.0",
          "state": {
            "_dom_classes": [],
            "_model_module": "@jupyter-widgets/controls",
            "_model_module_version": "1.5.0",
            "_model_name": "HTMLModel",
            "_view_count": null,
            "_view_module": "@jupyter-widgets/controls",
            "_view_module_version": "1.5.0",
            "_view_name": "HTMLView",
            "description": "",
            "description_tooltip": null,
            "layout": "IPY_MODEL_483b1e0b48774986a8d95b21f3201dfa",
            "placeholder": "​",
            "style": "IPY_MODEL_c302b1d491e748ccb96990621e0166f4",
            "value": "100%"
          }
        },
        "7ec42925b28c49cea15be6fc9b0aaa5a": {
          "model_module": "@jupyter-widgets/controls",
          "model_name": "FloatProgressModel",
          "model_module_version": "1.5.0",
          "state": {
            "_dom_classes": [],
            "_model_module": "@jupyter-widgets/controls",
            "_model_module_version": "1.5.0",
            "_model_name": "FloatProgressModel",
            "_view_count": null,
            "_view_module": "@jupyter-widgets/controls",
            "_view_module_version": "1.5.0",
            "_view_name": "ProgressView",
            "bar_style": "success",
            "description": "",
            "description_tooltip": null,
            "layout": "IPY_MODEL_277ee8568733432b88cf15431ef4cf17",
            "max": 1648877,
            "min": 0,
            "orientation": "horizontal",
            "style": "IPY_MODEL_a578cf172b044ee89af5af2de49401c7",
            "value": 1648877
          }
        },
        "7380654b69414a20ba1ddf7d0d97e6bb": {
          "model_module": "@jupyter-widgets/controls",
          "model_name": "HTMLModel",
          "model_module_version": "1.5.0",
          "state": {
            "_dom_classes": [],
            "_model_module": "@jupyter-widgets/controls",
            "_model_module_version": "1.5.0",
            "_model_name": "HTMLModel",
            "_view_count": null,
            "_view_module": "@jupyter-widgets/controls",
            "_view_module_version": "1.5.0",
            "_view_name": "HTMLView",
            "description": "",
            "description_tooltip": null,
            "layout": "IPY_MODEL_438618e5efbc43c8b0f90d833b280fbb",
            "placeholder": "​",
            "style": "IPY_MODEL_629f0c3896844e7a89486a2d71f850ed",
            "value": " 1648877/1648877 [00:01&lt;00:00, 2478979.79it/s]"
          }
        },
        "1a1dc327b5a2440ca73878cce3164b4f": {
          "model_module": "@jupyter-widgets/base",
          "model_name": "LayoutModel",
          "model_module_version": "1.2.0",
          "state": {
            "_model_module": "@jupyter-widgets/base",
            "_model_module_version": "1.2.0",
            "_model_name": "LayoutModel",
            "_view_count": null,
            "_view_module": "@jupyter-widgets/base",
            "_view_module_version": "1.2.0",
            "_view_name": "LayoutView",
            "align_content": null,
            "align_items": null,
            "align_self": null,
            "border": null,
            "bottom": null,
            "display": null,
            "flex": null,
            "flex_flow": null,
            "grid_area": null,
            "grid_auto_columns": null,
            "grid_auto_flow": null,
            "grid_auto_rows": null,
            "grid_column": null,
            "grid_gap": null,
            "grid_row": null,
            "grid_template_areas": null,
            "grid_template_columns": null,
            "grid_template_rows": null,
            "height": null,
            "justify_content": null,
            "justify_items": null,
            "left": null,
            "margin": null,
            "max_height": null,
            "max_width": null,
            "min_height": null,
            "min_width": null,
            "object_fit": null,
            "object_position": null,
            "order": null,
            "overflow": null,
            "overflow_x": null,
            "overflow_y": null,
            "padding": null,
            "right": null,
            "top": null,
            "visibility": null,
            "width": null
          }
        },
        "483b1e0b48774986a8d95b21f3201dfa": {
          "model_module": "@jupyter-widgets/base",
          "model_name": "LayoutModel",
          "model_module_version": "1.2.0",
          "state": {
            "_model_module": "@jupyter-widgets/base",
            "_model_module_version": "1.2.0",
            "_model_name": "LayoutModel",
            "_view_count": null,
            "_view_module": "@jupyter-widgets/base",
            "_view_module_version": "1.2.0",
            "_view_name": "LayoutView",
            "align_content": null,
            "align_items": null,
            "align_self": null,
            "border": null,
            "bottom": null,
            "display": null,
            "flex": null,
            "flex_flow": null,
            "grid_area": null,
            "grid_auto_columns": null,
            "grid_auto_flow": null,
            "grid_auto_rows": null,
            "grid_column": null,
            "grid_gap": null,
            "grid_row": null,
            "grid_template_areas": null,
            "grid_template_columns": null,
            "grid_template_rows": null,
            "height": null,
            "justify_content": null,
            "justify_items": null,
            "left": null,
            "margin": null,
            "max_height": null,
            "max_width": null,
            "min_height": null,
            "min_width": null,
            "object_fit": null,
            "object_position": null,
            "order": null,
            "overflow": null,
            "overflow_x": null,
            "overflow_y": null,
            "padding": null,
            "right": null,
            "top": null,
            "visibility": null,
            "width": null
          }
        },
        "c302b1d491e748ccb96990621e0166f4": {
          "model_module": "@jupyter-widgets/controls",
          "model_name": "DescriptionStyleModel",
          "model_module_version": "1.5.0",
          "state": {
            "_model_module": "@jupyter-widgets/controls",
            "_model_module_version": "1.5.0",
            "_model_name": "DescriptionStyleModel",
            "_view_count": null,
            "_view_module": "@jupyter-widgets/base",
            "_view_module_version": "1.2.0",
            "_view_name": "StyleView",
            "description_width": ""
          }
        },
        "277ee8568733432b88cf15431ef4cf17": {
          "model_module": "@jupyter-widgets/base",
          "model_name": "LayoutModel",
          "model_module_version": "1.2.0",
          "state": {
            "_model_module": "@jupyter-widgets/base",
            "_model_module_version": "1.2.0",
            "_model_name": "LayoutModel",
            "_view_count": null,
            "_view_module": "@jupyter-widgets/base",
            "_view_module_version": "1.2.0",
            "_view_name": "LayoutView",
            "align_content": null,
            "align_items": null,
            "align_self": null,
            "border": null,
            "bottom": null,
            "display": null,
            "flex": null,
            "flex_flow": null,
            "grid_area": null,
            "grid_auto_columns": null,
            "grid_auto_flow": null,
            "grid_auto_rows": null,
            "grid_column": null,
            "grid_gap": null,
            "grid_row": null,
            "grid_template_areas": null,
            "grid_template_columns": null,
            "grid_template_rows": null,
            "height": null,
            "justify_content": null,
            "justify_items": null,
            "left": null,
            "margin": null,
            "max_height": null,
            "max_width": null,
            "min_height": null,
            "min_width": null,
            "object_fit": null,
            "object_position": null,
            "order": null,
            "overflow": null,
            "overflow_x": null,
            "overflow_y": null,
            "padding": null,
            "right": null,
            "top": null,
            "visibility": null,
            "width": null
          }
        },
        "a578cf172b044ee89af5af2de49401c7": {
          "model_module": "@jupyter-widgets/controls",
          "model_name": "ProgressStyleModel",
          "model_module_version": "1.5.0",
          "state": {
            "_model_module": "@jupyter-widgets/controls",
            "_model_module_version": "1.5.0",
            "_model_name": "ProgressStyleModel",
            "_view_count": null,
            "_view_module": "@jupyter-widgets/base",
            "_view_module_version": "1.2.0",
            "_view_name": "StyleView",
            "bar_color": null,
            "description_width": ""
          }
        },
        "438618e5efbc43c8b0f90d833b280fbb": {
          "model_module": "@jupyter-widgets/base",
          "model_name": "LayoutModel",
          "model_module_version": "1.2.0",
          "state": {
            "_model_module": "@jupyter-widgets/base",
            "_model_module_version": "1.2.0",
            "_model_name": "LayoutModel",
            "_view_count": null,
            "_view_module": "@jupyter-widgets/base",
            "_view_module_version": "1.2.0",
            "_view_name": "LayoutView",
            "align_content": null,
            "align_items": null,
            "align_self": null,
            "border": null,
            "bottom": null,
            "display": null,
            "flex": null,
            "flex_flow": null,
            "grid_area": null,
            "grid_auto_columns": null,
            "grid_auto_flow": null,
            "grid_auto_rows": null,
            "grid_column": null,
            "grid_gap": null,
            "grid_row": null,
            "grid_template_areas": null,
            "grid_template_columns": null,
            "grid_template_rows": null,
            "height": null,
            "justify_content": null,
            "justify_items": null,
            "left": null,
            "margin": null,
            "max_height": null,
            "max_width": null,
            "min_height": null,
            "min_width": null,
            "object_fit": null,
            "object_position": null,
            "order": null,
            "overflow": null,
            "overflow_x": null,
            "overflow_y": null,
            "padding": null,
            "right": null,
            "top": null,
            "visibility": null,
            "width": null
          }
        },
        "629f0c3896844e7a89486a2d71f850ed": {
          "model_module": "@jupyter-widgets/controls",
          "model_name": "DescriptionStyleModel",
          "model_module_version": "1.5.0",
          "state": {
            "_model_module": "@jupyter-widgets/controls",
            "_model_module_version": "1.5.0",
            "_model_name": "DescriptionStyleModel",
            "_view_count": null,
            "_view_module": "@jupyter-widgets/base",
            "_view_module_version": "1.2.0",
            "_view_name": "StyleView",
            "description_width": ""
          }
        },
        "2d9a4ec0509e4e7c98a969dd3636386b": {
          "model_module": "@jupyter-widgets/controls",
          "model_name": "HBoxModel",
          "model_module_version": "1.5.0",
          "state": {
            "_dom_classes": [],
            "_model_module": "@jupyter-widgets/controls",
            "_model_module_version": "1.5.0",
            "_model_name": "HBoxModel",
            "_view_count": null,
            "_view_module": "@jupyter-widgets/controls",
            "_view_module_version": "1.5.0",
            "_view_name": "HBoxView",
            "box_style": "",
            "children": [
              "IPY_MODEL_0c6ad60da1bf465dab89aa8a8dce3403",
              "IPY_MODEL_cf704178f1c34832ae8a1e62509f0547",
              "IPY_MODEL_7b5c7425a06f4156902bed0ef9a53573"
            ],
            "layout": "IPY_MODEL_ba1aa034ecc848d19f1720585dcb7214"
          }
        },
        "0c6ad60da1bf465dab89aa8a8dce3403": {
          "model_module": "@jupyter-widgets/controls",
          "model_name": "HTMLModel",
          "model_module_version": "1.5.0",
          "state": {
            "_dom_classes": [],
            "_model_module": "@jupyter-widgets/controls",
            "_model_module_version": "1.5.0",
            "_model_name": "HTMLModel",
            "_view_count": null,
            "_view_module": "@jupyter-widgets/controls",
            "_view_module_version": "1.5.0",
            "_view_name": "HTMLView",
            "description": "",
            "description_tooltip": null,
            "layout": "IPY_MODEL_17df479135d0474baaeb6528cc5e8cfb",
            "placeholder": "​",
            "style": "IPY_MODEL_6c479084960e4add9868f679ff29e717",
            "value": "100%"
          }
        },
        "cf704178f1c34832ae8a1e62509f0547": {
          "model_module": "@jupyter-widgets/controls",
          "model_name": "FloatProgressModel",
          "model_module_version": "1.5.0",
          "state": {
            "_dom_classes": [],
            "_model_module": "@jupyter-widgets/controls",
            "_model_module_version": "1.5.0",
            "_model_name": "FloatProgressModel",
            "_view_count": null,
            "_view_module": "@jupyter-widgets/controls",
            "_view_module_version": "1.5.0",
            "_view_name": "ProgressView",
            "bar_style": "success",
            "description": "",
            "description_tooltip": null,
            "layout": "IPY_MODEL_07eadd4df8254f2e92c87b5bd6ecd67a",
            "max": 4542,
            "min": 0,
            "orientation": "horizontal",
            "style": "IPY_MODEL_bb85f7c14c5747fa822a40f3b89d9dfc",
            "value": 4542
          }
        },
        "7b5c7425a06f4156902bed0ef9a53573": {
          "model_module": "@jupyter-widgets/controls",
          "model_name": "HTMLModel",
          "model_module_version": "1.5.0",
          "state": {
            "_dom_classes": [],
            "_model_module": "@jupyter-widgets/controls",
            "_model_module_version": "1.5.0",
            "_model_name": "HTMLModel",
            "_view_count": null,
            "_view_module": "@jupyter-widgets/controls",
            "_view_module_version": "1.5.0",
            "_view_name": "HTMLView",
            "description": "",
            "description_tooltip": null,
            "layout": "IPY_MODEL_443a35991393478d8d88eae6116862a0",
            "placeholder": "​",
            "style": "IPY_MODEL_fe22804af24a4532ba1cab2165e22697",
            "value": " 4542/4542 [00:00&lt;00:00, 209784.48it/s]"
          }
        },
        "ba1aa034ecc848d19f1720585dcb7214": {
          "model_module": "@jupyter-widgets/base",
          "model_name": "LayoutModel",
          "model_module_version": "1.2.0",
          "state": {
            "_model_module": "@jupyter-widgets/base",
            "_model_module_version": "1.2.0",
            "_model_name": "LayoutModel",
            "_view_count": null,
            "_view_module": "@jupyter-widgets/base",
            "_view_module_version": "1.2.0",
            "_view_name": "LayoutView",
            "align_content": null,
            "align_items": null,
            "align_self": null,
            "border": null,
            "bottom": null,
            "display": null,
            "flex": null,
            "flex_flow": null,
            "grid_area": null,
            "grid_auto_columns": null,
            "grid_auto_flow": null,
            "grid_auto_rows": null,
            "grid_column": null,
            "grid_gap": null,
            "grid_row": null,
            "grid_template_areas": null,
            "grid_template_columns": null,
            "grid_template_rows": null,
            "height": null,
            "justify_content": null,
            "justify_items": null,
            "left": null,
            "margin": null,
            "max_height": null,
            "max_width": null,
            "min_height": null,
            "min_width": null,
            "object_fit": null,
            "object_position": null,
            "order": null,
            "overflow": null,
            "overflow_x": null,
            "overflow_y": null,
            "padding": null,
            "right": null,
            "top": null,
            "visibility": null,
            "width": null
          }
        },
        "17df479135d0474baaeb6528cc5e8cfb": {
          "model_module": "@jupyter-widgets/base",
          "model_name": "LayoutModel",
          "model_module_version": "1.2.0",
          "state": {
            "_model_module": "@jupyter-widgets/base",
            "_model_module_version": "1.2.0",
            "_model_name": "LayoutModel",
            "_view_count": null,
            "_view_module": "@jupyter-widgets/base",
            "_view_module_version": "1.2.0",
            "_view_name": "LayoutView",
            "align_content": null,
            "align_items": null,
            "align_self": null,
            "border": null,
            "bottom": null,
            "display": null,
            "flex": null,
            "flex_flow": null,
            "grid_area": null,
            "grid_auto_columns": null,
            "grid_auto_flow": null,
            "grid_auto_rows": null,
            "grid_column": null,
            "grid_gap": null,
            "grid_row": null,
            "grid_template_areas": null,
            "grid_template_columns": null,
            "grid_template_rows": null,
            "height": null,
            "justify_content": null,
            "justify_items": null,
            "left": null,
            "margin": null,
            "max_height": null,
            "max_width": null,
            "min_height": null,
            "min_width": null,
            "object_fit": null,
            "object_position": null,
            "order": null,
            "overflow": null,
            "overflow_x": null,
            "overflow_y": null,
            "padding": null,
            "right": null,
            "top": null,
            "visibility": null,
            "width": null
          }
        },
        "6c479084960e4add9868f679ff29e717": {
          "model_module": "@jupyter-widgets/controls",
          "model_name": "DescriptionStyleModel",
          "model_module_version": "1.5.0",
          "state": {
            "_model_module": "@jupyter-widgets/controls",
            "_model_module_version": "1.5.0",
            "_model_name": "DescriptionStyleModel",
            "_view_count": null,
            "_view_module": "@jupyter-widgets/base",
            "_view_module_version": "1.2.0",
            "_view_name": "StyleView",
            "description_width": ""
          }
        },
        "07eadd4df8254f2e92c87b5bd6ecd67a": {
          "model_module": "@jupyter-widgets/base",
          "model_name": "LayoutModel",
          "model_module_version": "1.2.0",
          "state": {
            "_model_module": "@jupyter-widgets/base",
            "_model_module_version": "1.2.0",
            "_model_name": "LayoutModel",
            "_view_count": null,
            "_view_module": "@jupyter-widgets/base",
            "_view_module_version": "1.2.0",
            "_view_name": "LayoutView",
            "align_content": null,
            "align_items": null,
            "align_self": null,
            "border": null,
            "bottom": null,
            "display": null,
            "flex": null,
            "flex_flow": null,
            "grid_area": null,
            "grid_auto_columns": null,
            "grid_auto_flow": null,
            "grid_auto_rows": null,
            "grid_column": null,
            "grid_gap": null,
            "grid_row": null,
            "grid_template_areas": null,
            "grid_template_columns": null,
            "grid_template_rows": null,
            "height": null,
            "justify_content": null,
            "justify_items": null,
            "left": null,
            "margin": null,
            "max_height": null,
            "max_width": null,
            "min_height": null,
            "min_width": null,
            "object_fit": null,
            "object_position": null,
            "order": null,
            "overflow": null,
            "overflow_x": null,
            "overflow_y": null,
            "padding": null,
            "right": null,
            "top": null,
            "visibility": null,
            "width": null
          }
        },
        "bb85f7c14c5747fa822a40f3b89d9dfc": {
          "model_module": "@jupyter-widgets/controls",
          "model_name": "ProgressStyleModel",
          "model_module_version": "1.5.0",
          "state": {
            "_model_module": "@jupyter-widgets/controls",
            "_model_module_version": "1.5.0",
            "_model_name": "ProgressStyleModel",
            "_view_count": null,
            "_view_module": "@jupyter-widgets/base",
            "_view_module_version": "1.2.0",
            "_view_name": "StyleView",
            "bar_color": null,
            "description_width": ""
          }
        },
        "443a35991393478d8d88eae6116862a0": {
          "model_module": "@jupyter-widgets/base",
          "model_name": "LayoutModel",
          "model_module_version": "1.2.0",
          "state": {
            "_model_module": "@jupyter-widgets/base",
            "_model_module_version": "1.2.0",
            "_model_name": "LayoutModel",
            "_view_count": null,
            "_view_module": "@jupyter-widgets/base",
            "_view_module_version": "1.2.0",
            "_view_name": "LayoutView",
            "align_content": null,
            "align_items": null,
            "align_self": null,
            "border": null,
            "bottom": null,
            "display": null,
            "flex": null,
            "flex_flow": null,
            "grid_area": null,
            "grid_auto_columns": null,
            "grid_auto_flow": null,
            "grid_auto_rows": null,
            "grid_column": null,
            "grid_gap": null,
            "grid_row": null,
            "grid_template_areas": null,
            "grid_template_columns": null,
            "grid_template_rows": null,
            "height": null,
            "justify_content": null,
            "justify_items": null,
            "left": null,
            "margin": null,
            "max_height": null,
            "max_width": null,
            "min_height": null,
            "min_width": null,
            "object_fit": null,
            "object_position": null,
            "order": null,
            "overflow": null,
            "overflow_x": null,
            "overflow_y": null,
            "padding": null,
            "right": null,
            "top": null,
            "visibility": null,
            "width": null
          }
        },
        "fe22804af24a4532ba1cab2165e22697": {
          "model_module": "@jupyter-widgets/controls",
          "model_name": "DescriptionStyleModel",
          "model_module_version": "1.5.0",
          "state": {
            "_model_module": "@jupyter-widgets/controls",
            "_model_module_version": "1.5.0",
            "_model_name": "DescriptionStyleModel",
            "_view_count": null,
            "_view_module": "@jupyter-widgets/base",
            "_view_module_version": "1.2.0",
            "_view_name": "StyleView",
            "description_width": ""
          }
        }
      }
    }
  },
  "cells": [
    {
      "cell_type": "markdown",
      "source": [
        "# Auto-Encoders\n",
        "Consists of two parts:\n",
        "1. Encoder: Embeds the input($x$) into the latent space representation($h$).\n",
        "2. Decoder: Tries to econstructs the input $\\hat x$ from the latent space representation($h$).\n",
        "\n",
        "- $dim(x)=dim(\\hat x)$\n",
        "- Under complete: $dim(h)<dim(x)$\n",
        "- Over complete: $dim(h)>dim(x)$\n",
        "\n",
        "## Here\n",
        "We will embed the MNIST dataset images(28x28) into 8x8 latent space and reconstruct them again back to 28x28 dimension.  \n",
        "  \n",
        "And we will use the autoencoder model for:\n",
        "1. Embedding image in considerable lower dimension(64 from 784).\n",
        "1. Try to generate images from random vectors in latent space.\n",
        "1. Denoise the noised images."
      ],
      "metadata": {
        "id": "7lqVRZED3yLe"
      }
    },
    {
      "cell_type": "markdown",
      "source": [
        "# Loading Libraries"
      ],
      "metadata": {
        "id": "C39rh2Xn3vU5"
      }
    },
    {
      "cell_type": "code",
      "execution_count": 1,
      "metadata": {
        "colab": {
          "base_uri": "https://localhost:8080/"
        },
        "id": "W0aZwbMLc4Fe",
        "outputId": "3e001751-4999-4060-9d0c-408ecf5a234b"
      },
      "outputs": [
        {
          "output_type": "stream",
          "name": "stdout",
          "text": [
            "torch version: 1.13.1+cu116\n",
            "torchvision version: 1.13.1+cu116\n"
          ]
        }
      ],
      "source": [
        "import torch\n",
        "print(f'torch version: {torch.__version__}')\n",
        "import torch.nn as nn\n",
        "from torch.utils.data import DataLoader\n",
        "\n",
        "import torchvision\n",
        "print(f'torchvision version: {torch.__version__}')\n",
        "from torchvision import datasets\n",
        "import torchvision.transforms as transforms\n",
        "\n",
        "import matplotlib.pyplot as plt\n",
        "import numpy as np\n",
        "\n",
        "! rm -rf /content/sample_data"
      ]
    },
    {
      "cell_type": "markdown",
      "source": [
        "# Device"
      ],
      "metadata": {
        "id": "Nzw9YolOnOSo"
      }
    },
    {
      "cell_type": "code",
      "source": [
        "device = 'cuda' if torch.cuda.is_available() else 'cpu'\n",
        "device"
      ],
      "metadata": {
        "colab": {
          "base_uri": "https://localhost:8080/",
          "height": 36
        },
        "id": "zWTyIVI2nPaO",
        "outputId": "a3da7005-1f06-4f44-d8d8-679b03be63c3"
      },
      "execution_count": 2,
      "outputs": [
        {
          "output_type": "execute_result",
          "data": {
            "text/plain": [
              "'cuda'"
            ],
            "application/vnd.google.colaboratory.intrinsic+json": {
              "type": "string"
            }
          },
          "metadata": {},
          "execution_count": 2
        }
      ]
    },
    {
      "cell_type": "markdown",
      "source": [
        "# Loading the data"
      ],
      "metadata": {
        "id": "n4FVZCVldCJt"
      }
    },
    {
      "cell_type": "code",
      "source": [
        "#since we are working with Linear layers only, thus we need to flatten our inputs\n",
        "flatten = lambda x: torch.flatten(x)\n",
        "\n",
        "transform = transforms.Compose([ \n",
        "    transforms.ToTensor(),\n",
        "    flatten\n",
        " ])\n",
        "training_set = datasets.MNIST(\n",
        "    root='data/',\n",
        "    train=True,\n",
        "    download=True,\n",
        "    transform=transform\n",
        ")\n",
        "\n",
        "test_set = datasets.MNIST(\n",
        "    root='data/',\n",
        "    train=False,\n",
        "    download=True,\n",
        "    transform=transform\n",
        ")"
      ],
      "metadata": {
        "id": "gfOSiSeGdEqe",
        "colab": {
          "base_uri": "https://localhost:8080/",
          "height": 437,
          "referenced_widgets": [
            "9f564fb00546456aaf8a8034d0860cbc",
            "ac99f1fc746f4d8e8826f71816700dec",
            "512752e4becb4562953ab351cb4891fa",
            "37fa1572d60549449e5527e2b9788874",
            "c546f396518545f4ae07ad4c78dfdf1f",
            "e6d1db08ec0e4227b3de03aa4fbc0b0c",
            "ed2f5626cdf74c43afd5cca8f0dc6945",
            "d38ee18290784371abc57184e560ea52",
            "8531188c6e21485e834b3fae3e07bcd8",
            "dd51f452d8434be1bcad47e00bb6f19d",
            "18c42e64ee2e456bb18d884a5620c39e",
            "a94ba8418b2141dc8f62b23699ebeee5",
            "1abad8d4624f4f2da9e9f93a15e46da6",
            "0c81cafef99e47e382bbb0c6da0770f3",
            "ee8405fa6541428581666f44ae6b5802",
            "17e9b292f5464707b624d50e3f2d2c27",
            "5a50f7802b104629aa144099947e5208",
            "74c8411449584474abd743d5e56e918d",
            "1335b9fca0d947998424504b5856c84a",
            "f248f19524164b85becfbba29de7138d",
            "552b08e2e6834b70a441d6cc20924538",
            "b38fde77933e49238ab250892136de25",
            "a1fb45a5a7454812b3d458a7c4b6236a",
            "dd7ba5cc52864a54b99b737836353ec8",
            "7ec42925b28c49cea15be6fc9b0aaa5a",
            "7380654b69414a20ba1ddf7d0d97e6bb",
            "1a1dc327b5a2440ca73878cce3164b4f",
            "483b1e0b48774986a8d95b21f3201dfa",
            "c302b1d491e748ccb96990621e0166f4",
            "277ee8568733432b88cf15431ef4cf17",
            "a578cf172b044ee89af5af2de49401c7",
            "438618e5efbc43c8b0f90d833b280fbb",
            "629f0c3896844e7a89486a2d71f850ed",
            "2d9a4ec0509e4e7c98a969dd3636386b",
            "0c6ad60da1bf465dab89aa8a8dce3403",
            "cf704178f1c34832ae8a1e62509f0547",
            "7b5c7425a06f4156902bed0ef9a53573",
            "ba1aa034ecc848d19f1720585dcb7214",
            "17df479135d0474baaeb6528cc5e8cfb",
            "6c479084960e4add9868f679ff29e717",
            "07eadd4df8254f2e92c87b5bd6ecd67a",
            "bb85f7c14c5747fa822a40f3b89d9dfc",
            "443a35991393478d8d88eae6116862a0",
            "fe22804af24a4532ba1cab2165e22697"
          ]
        },
        "outputId": "c15ff287-0056-4bfa-9884-45c749914d97"
      },
      "execution_count": 3,
      "outputs": [
        {
          "output_type": "stream",
          "name": "stdout",
          "text": [
            "Downloading http://yann.lecun.com/exdb/mnist/train-images-idx3-ubyte.gz\n",
            "Downloading http://yann.lecun.com/exdb/mnist/train-images-idx3-ubyte.gz to data/MNIST/raw/train-images-idx3-ubyte.gz\n"
          ]
        },
        {
          "output_type": "display_data",
          "data": {
            "text/plain": [
              "  0%|          | 0/9912422 [00:00<?, ?it/s]"
            ],
            "application/vnd.jupyter.widget-view+json": {
              "version_major": 2,
              "version_minor": 0,
              "model_id": "9f564fb00546456aaf8a8034d0860cbc"
            }
          },
          "metadata": {}
        },
        {
          "output_type": "stream",
          "name": "stdout",
          "text": [
            "Extracting data/MNIST/raw/train-images-idx3-ubyte.gz to data/MNIST/raw\n",
            "\n",
            "Downloading http://yann.lecun.com/exdb/mnist/train-labels-idx1-ubyte.gz\n",
            "Downloading http://yann.lecun.com/exdb/mnist/train-labels-idx1-ubyte.gz to data/MNIST/raw/train-labels-idx1-ubyte.gz\n"
          ]
        },
        {
          "output_type": "display_data",
          "data": {
            "text/plain": [
              "  0%|          | 0/28881 [00:00<?, ?it/s]"
            ],
            "application/vnd.jupyter.widget-view+json": {
              "version_major": 2,
              "version_minor": 0,
              "model_id": "a94ba8418b2141dc8f62b23699ebeee5"
            }
          },
          "metadata": {}
        },
        {
          "output_type": "stream",
          "name": "stdout",
          "text": [
            "Extracting data/MNIST/raw/train-labels-idx1-ubyte.gz to data/MNIST/raw\n",
            "\n",
            "Downloading http://yann.lecun.com/exdb/mnist/t10k-images-idx3-ubyte.gz\n",
            "Downloading http://yann.lecun.com/exdb/mnist/t10k-images-idx3-ubyte.gz to data/MNIST/raw/t10k-images-idx3-ubyte.gz\n"
          ]
        },
        {
          "output_type": "display_data",
          "data": {
            "text/plain": [
              "  0%|          | 0/1648877 [00:00<?, ?it/s]"
            ],
            "application/vnd.jupyter.widget-view+json": {
              "version_major": 2,
              "version_minor": 0,
              "model_id": "a1fb45a5a7454812b3d458a7c4b6236a"
            }
          },
          "metadata": {}
        },
        {
          "output_type": "stream",
          "name": "stdout",
          "text": [
            "Extracting data/MNIST/raw/t10k-images-idx3-ubyte.gz to data/MNIST/raw\n",
            "\n",
            "Downloading http://yann.lecun.com/exdb/mnist/t10k-labels-idx1-ubyte.gz\n",
            "Downloading http://yann.lecun.com/exdb/mnist/t10k-labels-idx1-ubyte.gz to data/MNIST/raw/t10k-labels-idx1-ubyte.gz\n"
          ]
        },
        {
          "output_type": "display_data",
          "data": {
            "text/plain": [
              "  0%|          | 0/4542 [00:00<?, ?it/s]"
            ],
            "application/vnd.jupyter.widget-view+json": {
              "version_major": 2,
              "version_minor": 0,
              "model_id": "2d9a4ec0509e4e7c98a969dd3636386b"
            }
          },
          "metadata": {}
        },
        {
          "output_type": "stream",
          "name": "stdout",
          "text": [
            "Extracting data/MNIST/raw/t10k-labels-idx1-ubyte.gz to data/MNIST/raw\n",
            "\n"
          ]
        }
      ]
    },
    {
      "cell_type": "markdown",
      "source": [
        "## Dataloaders - train, validation, test"
      ],
      "metadata": {
        "id": "B0zlHSiyebjt"
      }
    },
    {
      "cell_type": "code",
      "source": [
        "batch_size = 64\n",
        "\n",
        "n_val = 500\n",
        "train_set, val_set = torch.utils.data.random_split(training_set, [len(training_set)-n_val, n_val])\n",
        "\n",
        "train_loader = DataLoader(training_set, batch_size=batch_size, shuffle=True)\n",
        "val_loader = DataLoader(val_set, batch_size=batch_size, shuffle=True)\n",
        "test_loader = DataLoader(test_set, batch_size=batch_size, shuffle=True)"
      ],
      "metadata": {
        "id": "SZykELmBfrAk"
      },
      "execution_count": 4,
      "outputs": []
    },
    {
      "cell_type": "markdown",
      "source": [
        "# Building the model\n",
        "\n",
        "The network structure has two parts:\n",
        "1. Encoder\n",
        "  1. Linear: 784->256\n",
        "  1. LeakyReLU\n",
        "  1. Linear: 256->100\n",
        "  1. LeakyReLU\n",
        "  1. Linear: 100->64\n",
        "1. Decoder\n",
        "  1. Linear: 64->100\n",
        "  1. LeakyReLU\n",
        "  1. Linear: 100->256\n",
        "  1. LeakyReLU\n",
        "  1. Linear: 256->784"
      ],
      "metadata": {
        "id": "NeHsVHJef26c"
      }
    },
    {
      "cell_type": "code",
      "source": [
        "class Embedder(nn.Module):\n",
        "  def __init__(self, features):\n",
        "    super(Embedder, self).__init__()\n",
        "\n",
        "    self.features=features\n",
        "\n",
        "    self.encoder = nn.Sequential(\n",
        "        nn.Linear(in_features= self.features, out_features=256),\n",
        "        nn.LeakyReLU(),\n",
        "        nn.Linear(256,100),\n",
        "        nn.LeakyReLU(),\n",
        "        nn.Linear(100,64),\n",
        "        nn.LeakyReLU())\n",
        "    self.decoder = nn.Sequential(\n",
        "        nn.Linear(64,100), \n",
        "        nn.LeakyReLU(),\n",
        "        nn.Linear(100,256),\n",
        "        nn.LeakyReLU(),\n",
        "        nn.Linear(256,self.features),\n",
        "        nn.LeakyReLU())\n",
        "  \n",
        "  def forward(self, x):\n",
        "    h = self.encoder(x)\n",
        "    h = self.decoder(h)\n",
        "    return h\n",
        "\n",
        "\n",
        "model = Embedder(28*28)\n",
        "model.to(device)\n",
        "print(model)"
      ],
      "metadata": {
        "colab": {
          "base_uri": "https://localhost:8080/"
        },
        "id": "DMtmwISrf6-C",
        "outputId": "f802bfbb-68d2-4c16-8efa-6a4f4eb17b1c"
      },
      "execution_count": 5,
      "outputs": [
        {
          "output_type": "stream",
          "name": "stdout",
          "text": [
            "Embedder(\n",
            "  (encoder): Sequential(\n",
            "    (0): Linear(in_features=784, out_features=256, bias=True)\n",
            "    (1): LeakyReLU(negative_slope=0.01)\n",
            "    (2): Linear(in_features=256, out_features=100, bias=True)\n",
            "    (3): LeakyReLU(negative_slope=0.01)\n",
            "    (4): Linear(in_features=100, out_features=64, bias=True)\n",
            "    (5): LeakyReLU(negative_slope=0.01)\n",
            "  )\n",
            "  (decoder): Sequential(\n",
            "    (0): Linear(in_features=64, out_features=100, bias=True)\n",
            "    (1): LeakyReLU(negative_slope=0.01)\n",
            "    (2): Linear(in_features=100, out_features=256, bias=True)\n",
            "    (3): LeakyReLU(negative_slope=0.01)\n",
            "    (4): Linear(in_features=256, out_features=784, bias=True)\n",
            "    (5): LeakyReLU(negative_slope=0.01)\n",
            "  )\n",
            ")\n"
          ]
        }
      ]
    },
    {
      "cell_type": "markdown",
      "source": [
        "# Train"
      ],
      "metadata": {
        "id": "3xmbZOOkhg7z"
      }
    },
    {
      "cell_type": "markdown",
      "source": [
        "## Loss functions and optimizers"
      ],
      "metadata": {
        "id": "irCl2Yfjhowk"
      }
    },
    {
      "cell_type": "code",
      "source": [
        "lr = 0.001\n",
        "\n",
        "loss_fn = nn.MSELoss()\n",
        "\n",
        "optimizer = torch.optim.Adam(model.parameters(), lr=lr)"
      ],
      "metadata": {
        "id": "AmZ8j1qUhrgx"
      },
      "execution_count": null,
      "outputs": []
    },
    {
      "cell_type": "markdown",
      "source": [
        "## Train Loop"
      ],
      "metadata": {
        "id": "6IizUuB2iBZC"
      }
    },
    {
      "cell_type": "code",
      "source": [
        "%%time\n",
        "\n",
        "train_loss = []\n",
        "val_loss = []\n",
        "\n",
        "n_epoch = 50\n",
        "\n",
        "for epoch in range(n_epoch):\n",
        "  #train loop\n",
        "  train_l = 0\n",
        "  for images, _ in train_loader:\n",
        "    images = images.to(device)\n",
        "    optimizer.zero_grad()\n",
        "    y_pred = model( images)\n",
        "    loss = loss_fn(y_pred, images)\n",
        "    loss.backward()\n",
        "    optimizer.step()\n",
        "\n",
        "    #book-keeping\n",
        "    train_l += loss.item()\n",
        "  train_l = train_l/len(train_loader)\n",
        "  train_loss.append(train_l)\n",
        "  \n",
        "  #validation loop\n",
        "  val_l=0\n",
        "  for images, _ in val_loader:\n",
        "    images = images.to(device)\n",
        "    y_pred = model(images)\n",
        "    loss = loss_fn(y_pred, images)\n",
        "\n",
        "    #book-keeping\n",
        "    val_l += loss.item()\n",
        "  val_l= val_l/len(val_loader)\n",
        "  val_loss.append(val_l)\n",
        "\n",
        "  print(f'Epoch:{epoch}/{n_epoch} \\t Train Loss={train_l} \\t Val Loss={val_l}')\n",
        "\n",
        "#overall training and validation loss\n",
        "print(\"\\n\\n\")\n",
        "print(f'Training Loss= {sum(train_loss)/len(train_loss)}')\n",
        "print(f'Validation Loss= {sum(val_loss)/len(val_loss)}')\n",
        "print(\"\\n\\n\")"
      ],
      "metadata": {
        "colab": {
          "base_uri": "https://localhost:8080/"
        },
        "id": "XmMXw70OiDsy",
        "outputId": "9b4648f1-550f-4b10-e582-eef84b4c0bec"
      },
      "execution_count": null,
      "outputs": [
        {
          "output_type": "stream",
          "name": "stdout",
          "text": [
            "Epoch:0/50 \t Train Loss=0.005331505909621684 \t Val Loss=0.005292168585583568\n",
            "Epoch:1/50 \t Train Loss=0.005196432443534228 \t Val Loss=0.00498909322777763\n",
            "Epoch:2/50 \t Train Loss=0.005086529218573878 \t Val Loss=0.005002229707315564\n",
            "Epoch:3/50 \t Train Loss=0.004995048535354277 \t Val Loss=0.00519918865757063\n",
            "Epoch:4/50 \t Train Loss=0.004884382460151177 \t Val Loss=0.004785428289324045\n",
            "Epoch:5/50 \t Train Loss=0.004817570694712306 \t Val Loss=0.004711834364570677\n",
            "Epoch:6/50 \t Train Loss=0.004727523086834818 \t Val Loss=0.004539039160590619\n",
            "Epoch:7/50 \t Train Loss=0.004650917993898172 \t Val Loss=0.004568451549857855\n",
            "Epoch:8/50 \t Train Loss=0.0045889043695986394 \t Val Loss=0.004742137156426907\n",
            "Epoch:9/50 \t Train Loss=0.004521794422323118 \t Val Loss=0.004391527501866221\n",
            "Epoch:10/50 \t Train Loss=0.004470792771287278 \t Val Loss=0.004409490269608796\n",
            "Epoch:11/50 \t Train Loss=0.004417564867854691 \t Val Loss=0.0043548031826503575\n",
            "Epoch:12/50 \t Train Loss=0.004366197300874301 \t Val Loss=0.004214304382912815\n",
            "Epoch:13/50 \t Train Loss=0.004299052563041195 \t Val Loss=0.004293170874007046\n",
            "Epoch:14/50 \t Train Loss=0.004272437456604054 \t Val Loss=0.004356374847702682\n",
            "Epoch:15/50 \t Train Loss=0.004229750738157504 \t Val Loss=0.004357010213425383\n",
            "Epoch:16/50 \t Train Loss=0.004180611776702328 \t Val Loss=0.004338967148214579\n",
            "Epoch:17/50 \t Train Loss=0.004137435995503021 \t Val Loss=0.004074748430866748\n",
            "Epoch:18/50 \t Train Loss=0.004101934203846273 \t Val Loss=0.003964310948504135\n",
            "Epoch:19/50 \t Train Loss=0.004067954684504425 \t Val Loss=0.003996184561401606\n",
            "Epoch:20/50 \t Train Loss=0.004012142540142337 \t Val Loss=0.0038620297564193606\n",
            "Epoch:21/50 \t Train Loss=0.003990766500482268 \t Val Loss=0.004001735214842483\n",
            "Epoch:22/50 \t Train Loss=0.003947132363615593 \t Val Loss=0.003933600150048733\n",
            "Epoch:23/50 \t Train Loss=0.003920117978439498 \t Val Loss=0.004054031945997849\n",
            "Epoch:24/50 \t Train Loss=0.0038997225378002566 \t Val Loss=0.00388256847509183\n",
            "Epoch:25/50 \t Train Loss=0.0038612220900010137 \t Val Loss=0.0038545552524738014\n",
            "Epoch:26/50 \t Train Loss=0.0038306656440517417 \t Val Loss=0.003846869134576991\n",
            "Epoch:27/50 \t Train Loss=0.0038178461814311142 \t Val Loss=0.0038872531440574676\n",
            "Epoch:28/50 \t Train Loss=0.00378739204965651 \t Val Loss=0.003965480194892734\n",
            "Epoch:29/50 \t Train Loss=0.003764138806974694 \t Val Loss=0.0037744962028227746\n",
            "Epoch:30/50 \t Train Loss=0.003762807518835547 \t Val Loss=0.003825226769549772\n",
            "Epoch:31/50 \t Train Loss=0.003733850667314695 \t Val Loss=0.0036412185290828347\n",
            "Epoch:32/50 \t Train Loss=0.0037220900288538767 \t Val Loss=0.0037242582766339183\n",
            "Epoch:33/50 \t Train Loss=0.0036834494242055423 \t Val Loss=0.003688289347337559\n",
            "Epoch:34/50 \t Train Loss=0.0036779132901009785 \t Val Loss=0.0037350147613324225\n",
            "Epoch:35/50 \t Train Loss=0.003670133545553919 \t Val Loss=0.003555531584424898\n",
            "Epoch:36/50 \t Train Loss=0.0036491869716966615 \t Val Loss=0.0037843397876713425\n",
            "Epoch:37/50 \t Train Loss=0.003626959846674729 \t Val Loss=0.003568225249182433\n",
            "Epoch:38/50 \t Train Loss=0.003621445348941044 \t Val Loss=0.003519527817843482\n",
            "Epoch:39/50 \t Train Loss=0.0035946361528439467 \t Val Loss=0.003700473520439118\n",
            "Epoch:40/50 \t Train Loss=0.0035826237182190485 \t Val Loss=0.0036045360029675066\n",
            "Epoch:41/50 \t Train Loss=0.0035573521972512767 \t Val Loss=0.0035286233469378203\n",
            "Epoch:42/50 \t Train Loss=0.003561783172408623 \t Val Loss=0.003527839668095112\n",
            "Epoch:43/50 \t Train Loss=0.0035463626248769956 \t Val Loss=0.0035193699586670846\n",
            "Epoch:44/50 \t Train Loss=0.003530084924486432 \t Val Loss=0.0034705853031482548\n",
            "Epoch:45/50 \t Train Loss=0.003531661291700055 \t Val Loss=0.00348060458782129\n",
            "Epoch:46/50 \t Train Loss=0.0035058577003370503 \t Val Loss=0.003575781622203067\n",
            "Epoch:47/50 \t Train Loss=0.003492117550388884 \t Val Loss=0.003599285497330129\n",
            "Epoch:48/50 \t Train Loss=0.0034913342515094036 \t Val Loss=0.0034792922087945044\n",
            "Epoch:49/50 \t Train Loss=0.003476599143492356 \t Val Loss=0.0034786731703206897\n",
            "\n",
            "\n",
            "\n",
            "Training Loss= 0.004043874751105268\n",
            "Validation Loss= 0.004032995590823703\n",
            "\n",
            "\n",
            "\n",
            "CPU times: user 11min 6s, sys: 4.64 s, total: 11min 11s\n",
            "Wall time: 11min 58s\n"
          ]
        }
      ]
    },
    {
      "cell_type": "code",
      "source": [
        "# plotting loss\n",
        "import matplotlib.pyplot as plt\n",
        "\n",
        "plt.figure(figsize=(11,7))\n",
        "plt.plot(train_loss, linestyle='-', color='blue', label=\"Train Loss\")\n",
        "plt.plot(val_loss, linestyle='--', color='red', label=\"Validation Loss\")\n",
        "plt.xlabel('Number of Epochs', size=20, color='blue')\n",
        "plt.ylabel('Reconstruction Loss', size=20, color='blue')\n",
        "plt.title(\"Training Losses\", size=25, color='blue')\n",
        "plt.legend()\n",
        "plt.show()"
      ],
      "metadata": {
        "colab": {
          "base_uri": "https://localhost:8080/",
          "height": 476
        },
        "id": "VwHA6AFUjuKR",
        "outputId": "a8fe9ce6-26ad-4ff9-94e7-a8118e06b392"
      },
      "execution_count": null,
      "outputs": [
        {
          "output_type": "display_data",
          "data": {
            "text/plain": [
              "<Figure size 792x504 with 1 Axes>"
            ],
            "image/png": "[encoded data removed]"
          },
          "metadata": {
            "needs_background": "light"
          }
        }
      ]
    },
    {
      "cell_type": "markdown",
      "source": [
        "# Save the model"
      ],
      "metadata": {
        "id": "rDe6wSMFCfCI"
      }
    },
    {
      "cell_type": "code",
      "source": [
        "# torch.save(model.state_dict(), '/content/trained_model.pth')"
      ],
      "metadata": {
        "id": "Q0GkXgCzCg7s"
      },
      "execution_count": null,
      "outputs": []
    },
    {
      "cell_type": "markdown",
      "source": [
        "# Loading the model"
      ],
      "metadata": {
        "id": "E8zgjYIfC8ct"
      }
    },
    {
      "cell_type": "code",
      "source": [
        "model = Embedder(28*28)\n",
        "model.load_state_dict(torch.load('/content/autoencoder_MNIST.pth'))\n",
        "model.to(device)"
      ],
      "metadata": {
        "colab": {
          "base_uri": "https://localhost:8080/"
        },
        "id": "4drlthYUC96s",
        "outputId": "408a7d01-34eb-42a9-be85-eb2d63d36d45"
      },
      "execution_count": 6,
      "outputs": [
        {
          "output_type": "execute_result",
          "data": {
            "text/plain": [
              "Embedder(\n",
              "  (encoder): Sequential(\n",
              "    (0): Linear(in_features=784, out_features=256, bias=True)\n",
              "    (1): LeakyReLU(negative_slope=0.01)\n",
              "    (2): Linear(in_features=256, out_features=100, bias=True)\n",
              "    (3): LeakyReLU(negative_slope=0.01)\n",
              "    (4): Linear(in_features=100, out_features=64, bias=True)\n",
              "    (5): LeakyReLU(negative_slope=0.01)\n",
              "  )\n",
              "  (decoder): Sequential(\n",
              "    (0): Linear(in_features=64, out_features=100, bias=True)\n",
              "    (1): LeakyReLU(negative_slope=0.01)\n",
              "    (2): Linear(in_features=100, out_features=256, bias=True)\n",
              "    (3): LeakyReLU(negative_slope=0.01)\n",
              "    (4): Linear(in_features=256, out_features=784, bias=True)\n",
              "    (5): LeakyReLU(negative_slope=0.01)\n",
              "  )\n",
              ")"
            ]
          },
          "metadata": {},
          "execution_count": 6
        }
      ]
    },
    {
      "cell_type": "markdown",
      "source": [
        "# Evaluation"
      ],
      "metadata": {
        "id": "hgJN5R3bALwW"
      }
    },
    {
      "cell_type": "code",
      "source": [
        "%%time\n",
        "\n",
        "test_loss = []\n",
        "\n",
        "test_l=0\n",
        "for images, _ in test_loader:\n",
        "  images = images.to(device)\n",
        "  y_pred = model(images)\n",
        "  loss = loss_fn(y_pred, images)\n",
        "\n",
        "  #book-keeping\n",
        "  test_l += loss.item()\n",
        "test_l= test_l/len(test_loader)\n",
        "test_loss.append(test_l)\n",
        "\n",
        "print(f'Test Loss={sum(test_loss)/len(test_loss)}')"
      ],
      "metadata": {
        "colab": {
          "base_uri": "https://localhost:8080/"
        },
        "id": "u5G5H17lANGO",
        "outputId": "e0724e51-5da9-4819-8d44-a9e7b9946342"
      },
      "execution_count": null,
      "outputs": [
        {
          "output_type": "stream",
          "name": "stdout",
          "text": [
            "Test Loss=0.0036899007850913863\n",
            "CPU times: user 1.52 s, sys: 7.02 ms, total: 1.53 s\n",
            "Wall time: 1.53 s\n"
          ]
        }
      ]
    },
    {
      "cell_type": "markdown",
      "source": [
        "## Reconstruction Samples"
      ],
      "metadata": {
        "id": "SUMpkFkuouCP"
      }
    },
    {
      "cell_type": "code",
      "source": [
        "n_samples = 6\n",
        "sampler = torch.utils.data.sampler.SubsetRandomSampler(range(n_samples))\n",
        "sample_loader = DataLoader( test_set, batch_size=1, sampler=sampler)\n",
        "\n",
        "i=0\n",
        "fig, ax = plt.subplots(nrows=2,ncols=6, figsize=(25,10))\n",
        "for image, _ in sample_loader:\n",
        "  reconstructed = model(image.to(device)).cpu().detach().numpy()\n",
        "\n",
        "  ax[0][i].imshow(image.reshape(28,28), cmap='gray')\n",
        "  ax[0][i].set_title('Original')\n",
        "  ax[0][i].axis('off')\n",
        "  ax[1][i].imshow(reconstructed.reshape(28,28), cmap='gray')\n",
        "  ax[1][i].set_title('Reconstructed')\n",
        "  ax[1][i].axis('off')\n",
        "  i +=1"
      ],
      "metadata": {
        "colab": {
          "base_uri": "https://localhost:8080/",
          "height": 543
        },
        "id": "1nWJZqH_pKqN",
        "outputId": "298435cb-6d2a-4a56-a8a3-782833f40feb"
      },
      "execution_count": null,
      "outputs": [
        {
          "output_type": "display_data",
          "data": {
            "text/plain": [
              "<Figure size 1800x720 with 12 Axes>"
            ],
            "image/png": "[encoded data removed]"
          },
          "metadata": {
            "needs_background": "light"
          }
        }
      ]
    },
    {
      "cell_type": "markdown",
      "source": [
        "**Inference:**\n",
        "- Since we are able to construct almost identical images of 28x28 dimension after embedding them into 8x8=64 dimensional latent space. **Thus we can use this network for embedding without much data loss.**"
      ],
      "metadata": {
        "id": "hKOiU3bS-i7_"
      }
    },
    {
      "cell_type": "markdown",
      "source": [
        "# Using for embedding\n",
        "Visualizing 28x28 images being embedded into 8x8 latent space, which is given as the output by the encoders.  \n",
        ">Note: Visualizng the embedding, which is actually linear layer input, by reshaping into 8x8.\n",
        "\n"
      ],
      "metadata": {
        "id": "b3SUi1zgxYTe"
      }
    },
    {
      "cell_type": "code",
      "source": [
        "n_samples = 6\n",
        "sampler = torch.utils.data.sampler.SubsetRandomSampler(range(n_samples))  #take random 6 samples from test-set\n",
        "sample_loader = DataLoader( test_set, batch_size=1, sampler=sampler)\n",
        "\n",
        "i=0\n",
        "fig, ax = plt.subplots(nrows=2,ncols=6, figsize=(25,6))\n",
        "for image, _ in sample_loader:\n",
        "  #get the embedding using only encoder part\n",
        "  embedding = model.encoder(image.to(device)).cpu().detach().numpy()\n",
        "\n",
        "  #plot\n",
        "  ax[0][i].imshow(image.reshape(28,28), cmap='gray')\n",
        "  ax[0][i].set_title('Original')\n",
        "  ax[0][i].axis('off')\n",
        "  ax[1][i].imshow(embedding.reshape(8,8), cmap='gray')\n",
        "  ax[1][i].set_title('Embedding')\n",
        "  ax[1][i].axis('off')\n",
        "  i +=1"
      ],
      "metadata": {
        "colab": {
          "base_uri": "https://localhost:8080/",
          "height": 373
        },
        "id": "FULRhfr_xbV6",
        "outputId": "d08879bd-b65f-401c-bb44-ef14d81dfe54"
      },
      "execution_count": null,
      "outputs": [
        {
          "output_type": "display_data",
          "data": {
            "text/plain": [
              "<Figure size 1800x432 with 12 Axes>"
            ],
            "image/png": "[encoded data removed]"
          },
          "metadata": {
            "needs_background": "light"
          }
        }
      ]
    },
    {
      "cell_type": "markdown",
      "source": [
        "**Inference:**\n",
        "- Since we are using Linear layers, they dont preserve spatial structure, thus visualizing embedding in image form as above is not useful."
      ],
      "metadata": {
        "id": "yd5L2fRJ5Lzy"
      }
    },
    {
      "cell_type": "markdown",
      "source": [
        "# Each Layer output for a sample input\n",
        "The network has two parts:\n",
        "1. Encoder: 3 Linear layers with LeakyReLU as activation functions.\n",
        "1. Decoder: 3 Linear layers with LeakyReLU as activation functions.\n",
        "\n",
        "Below we visualize the input and the output from respective layers for the input. And finally the reconstructed image at last."
      ],
      "metadata": {
        "id": "ioZLOG-RzBvr"
      }
    },
    {
      "cell_type": "code",
      "source": [
        "#get the outputs\n",
        "\n",
        "\n",
        "sample, _ = test_set[np.random.randint(0,len(test_set))]\n",
        "\n",
        "images = [(0,'Input Image',sample.to(device).flatten())]\n",
        "\n",
        "#encoder\n",
        "for name, module in model.encoder.named_children():\n",
        "  output = module(images[-1][2])\n",
        "  images.append((name, type(module).__name__,output))\n",
        "\n",
        "#decoder\n",
        "for name, module in model.decoder.named_children():\n",
        "  output = module(images[-1][2])\n",
        "  images.append((name, type(module).__name__,output))\n",
        "\n",
        "print(len(images))"
      ],
      "metadata": {
        "colab": {
          "base_uri": "https://localhost:8080/"
        },
        "id": "liv6AdLz1exx",
        "outputId": "732f6ad5-28b6-46b4-e6b2-cbd3d66c075e"
      },
      "execution_count": null,
      "outputs": [
        {
          "output_type": "stream",
          "name": "stdout",
          "text": [
            "13\n"
          ]
        }
      ]
    },
    {
      "cell_type": "code",
      "source": [
        "#plot the outputs\n",
        "#    in two rows: upper is encoder, lower is decoder\n",
        "\n",
        "\n",
        "#encoder\n",
        "col=0\n",
        "fig, ax = plt.subplots(ncols=7, figsize=(25,20))\n",
        "for number, typ, image in images[:7]:\n",
        "  n = int(np.sqrt(len(image)))\n",
        "  ax[col].imshow(image.cpu().detach().numpy().reshape(n,n), cmap='gray')\n",
        "  ax[col].set_title(f'{typ} {number}')\n",
        "  ax[col].axis('off')\n",
        "  col +=1\n",
        "plt.show()\n",
        "\n",
        "#decoder\n",
        "col=0\n",
        "fig, ax = plt.subplots(ncols=6, figsize=(25,20))\n",
        "for number, typ, image in images[7:]:\n",
        "  n = int(np.sqrt(len(image)))\n",
        "  ax[col].imshow(image.cpu().detach().numpy().reshape(n,n), cmap='gray')\n",
        "  ax[col].set_title(f'{typ} {number}')\n",
        "  ax[col].axis('off')\n",
        "  col +=1\n",
        "plt.show()"
      ],
      "metadata": {
        "colab": {
          "base_uri": "https://localhost:8080/",
          "height": 446
        },
        "id": "T242DRAd0Ihg",
        "outputId": "61949c0f-da55-41df-87bc-3cab3d3056d1"
      },
      "execution_count": null,
      "outputs": [
        {
          "output_type": "display_data",
          "data": {
            "text/plain": [
              "<Figure size 1800x1440 with 7 Axes>"
            ],
            "image/png": "[encoded data removed]"
          },
          "metadata": {
            "needs_background": "light"
          }
        },
        {
          "output_type": "display_data",
          "data": {
            "text/plain": [
              "<Figure size 1800x1440 with 6 Axes>"
            ],
            "image/png": "[encoded data removed]"
          },
          "metadata": {
            "needs_background": "light"
          }
        }
      ]
    },
    {
      "cell_type": "markdown",
      "source": [
        "**Inference:**\n",
        "- Because the mid-layers are Linear, thus there is no spatial structure like in images for them, thus reshaping them into image form is meaningless, as can be seen here.\n",
        "- The LeakyReLU removes the noise from the output of final Linear Layer."
      ],
      "metadata": {
        "id": "UOUxLNFp3lUz"
      }
    },
    {
      "cell_type": "markdown",
      "source": [
        "# Constructing from randomness\n",
        "Since our decoder is taking a 8x8=64 dimensional vector of latent space and constructing a 28x28 image from it.  \n",
        "Basically meaning decoder can take a vector from latent space and generate a corresponding image for that vector.  \n",
        "  \n",
        "  Thus below we take random vectors from latent space and construct images relating to them."
      ],
      "metadata": {
        "id": "Dia42zem62DZ"
      }
    },
    {
      "cell_type": "code",
      "source": [
        "n_samples\n",
        "#generate random latent vectors\n",
        "random_latent = 4*torch.rand(6, 8*8)-2\n",
        "\n",
        "\n",
        "#plot\n",
        "i=0\n",
        "fig, ax = plt.subplots(nrows=2, ncols=n_samples, figsize=(25,7))\n",
        "for random_l in random_latent:\n",
        "  #reconstruct image from it\n",
        "  output = model.decoder(random_l.to(device)).cpu().detach().numpy().reshape(28,28)\n",
        "\n",
        "  #plot random latent vector\n",
        "  ax[0][i].imshow(random_l.detach().numpy().reshape(8,8), cmap='gray')\n",
        "  ax[0][i].set_title(f'Random Embedding {i}')\n",
        "  ax[0][i].axis('off')\n",
        "\n",
        "  #plot corresponding constructed image\n",
        "  ax[1][i].imshow(output, cmap='gray')\n",
        "  ax[1][i].set_title(f'Constructed{ i}')\n",
        "  ax[1][i].axis('off')\n",
        "\n",
        "  i +=1"
      ],
      "metadata": {
        "colab": {
          "base_uri": "https://localhost:8080/",
          "height": 427
        },
        "id": "uoSOUa-U66_Q",
        "outputId": "9e9fba01-3f65-4c34-a5c5-c7dfe5ec092f"
      },
      "execution_count": null,
      "outputs": [
        {
          "output_type": "display_data",
          "data": {
            "text/plain": [
              "<Figure size 1800x504 with 12 Axes>"
            ],
            "image/png": "[encoded data removed]"
          },
          "metadata": {
            "needs_background": "light"
          }
        }
      ]
    },
    {
      "cell_type": "markdown",
      "source": [
        "**Inference:**\n",
        "- Taking a random latent vector wont give proper construction.\n",
        "- Maybe taking random latent vector from the latent vector distribution might give good results."
      ],
      "metadata": {
        "id": "NTbohdd_9xgH"
      }
    },
    {
      "cell_type": "markdown",
      "source": [
        "# Using for Denoising\n",
        "1. The input image is being embedded into latent space by encoder.  \n",
        "1. The decoder constructs image back from the latent space representation.\n",
        "\n",
        "Thus, intuition is that if the input vector has noises, then during the process of embedding it into latent space, the noises might get lost in information Loss.  \n",
        "And hence when we reconstruct back the image using decoder, the noises will be removed."
      ],
      "metadata": {
        "id": "zvHkgS6n_P0H"
      }
    },
    {
      "cell_type": "code",
      "source": [
        "n_samples = 6\n",
        "#generate random indexes\n",
        "r_idxs = torch.randint(low=0, high=len(test_set), size=(n_samples,))\n",
        "#get corresponding test images\n",
        "samples = [test_set[i][0] for i in r_idxs]\n",
        "\n",
        "#add noise to images\n",
        "noises = torch.rand(n_samples, 784) -0.5\n",
        "\n",
        "#add noise\n",
        "corrupted = [samples[i]+noises[i] for i in range(n_samples)]\n",
        "\n",
        "#pass through autoencoder\n",
        "pass1 = [model(corrupted[i].to(device)).cpu() for i in range(n_samples)]\n",
        "\n",
        "#pass again through autoencoder\n",
        "pass2 = [model(pass1[i].to(device)).cpu() for i in range(n_samples)]\n",
        "\n",
        "\n",
        "#plot\n",
        "fig, ax = plt.subplots(nrows=4, ncols=n_samples, figsize=(27,14))\n",
        "for i in range(n_samples):\n",
        "  #plot noisy image\n",
        "  ax[0][i].imshow(corrupted[i].reshape(28,28), cmap='gray')\n",
        "  ax[0][i].set_title(f'Noisy Image {i}')\n",
        "  ax[0][i].axis('off')\n",
        "\n",
        "  #plot corresponding pass1 image\n",
        "  ax[1][i].imshow(pass1[i].detach().numpy().reshape(28,28), cmap='gray')\n",
        "  ax[1][i].set_title(f'Pass-1 {i}')\n",
        "  ax[1][i].axis('off')\n",
        "\n",
        "  #plot corresponding pass2 image\n",
        "  ax[2][i].imshow(pass2[i].detach().numpy().reshape(28,28), cmap='gray')\n",
        "  ax[2][i].set_title(f'Pass-2 {i}')\n",
        "  ax[2][i].axis('off')\n",
        "\n",
        "  #plotting the original images\n",
        "  ax[3][i].imshow(samples[i].reshape(28,28), cmap='gray')\n",
        "  ax[3][i].set_title(f'Orignial Image {i}')\n",
        "  ax[3][i].axis('off')"
      ],
      "metadata": {
        "colab": {
          "base_uri": "https://localhost:8080/",
          "height": 728
        },
        "id": "Z-WMWd8D_oku",
        "outputId": "b6f5a197-308c-4c84-c0b3-2227aef01c96"
      },
      "execution_count": 8,
      "outputs": [
        {
          "output_type": "display_data",
          "data": {
            "text/plain": [
              "<Figure size 1944x1008 with 24 Axes>"
            ],
            "image/png": "[encoded data removed]"
          },
          "metadata": {
            "needs_background": "light"
          }
        }
      ]
    },
    {
      "cell_type": "markdown",
      "source": [
        "**Inference:**\n",
        "- Its clearly visible that the model did indeed denoise the image to great extent.\n",
        "- Second pass did clean a little but not that much, thus it might not be worth it."
      ],
      "metadata": {
        "id": "_hU1iSIrHVkr"
      }
    },
    {
      "cell_type": "markdown",
      "source": [
        "# Receptive field\n",
        "Will it still work properly for an image consisting of multiple handwritten digits? In other words how is its receptive field?  \n",
        "Below we will compose 4 test images, pool them to get 28x28 dimension and feed to autoencoder."
      ],
      "metadata": {
        "id": "XsIIRTnYIAxy"
      }
    },
    {
      "cell_type": "code",
      "source": [
        "n_samples = 6\n",
        "\n",
        "#generate random indexes\n",
        "r_idxs = torch.randint(low=0, high=len(test_set), size=(n_samples,))\n",
        "#get images - top left\n",
        "top_left = [test_set[i][0].reshape(28,28) for i in r_idxs]\n",
        "#generate random indexes\n",
        "r_idxs = torch.randint(low=0, high=len(test_set), size=(n_samples,))\n",
        "#get images - top right\n",
        "top_right = [test_set[i][0].reshape(28,28) for i in r_idxs]\n",
        "#generate random indexes\n",
        "r_idxs = torch.randint(low=0, high=len(test_set), size=(n_samples,))\n",
        "#get images - bottom left\n",
        "bottom_left = [test_set[i][0].reshape(28,28) for i in r_idxs]\n",
        "#generate random indexes\n",
        "r_idxs = torch.randint(low=0, high=len(test_set), size=(n_samples,))\n",
        "#get images - bottom right\n",
        "bottom_right = [test_set[i][0].reshape(28,28) for i in r_idxs]\n",
        "\n",
        "\n",
        "composed_top = [torch.cat([top_left[i], top_right[i]], dim=1) for i in range(n_samples)]\n",
        "composed_bottom = [torch.cat([bottom_left[i], bottom_right[i]], dim=1) for i in range(n_samples)]\n",
        "composed = [torch.cat([composed_top[i], composed_bottom[i]], dim=0) for i in range(n_samples)]\n",
        "\n",
        "\n",
        "#reduce the dimension\n",
        "maxpool = nn.AvgPool2d(kernel_size=2, stride=2)\n",
        "reduced = [maxpool(composed[i].unsqueeze(0)) for i in range(n_samples)]\n",
        "\n",
        "#pass through autoencoder\n",
        "reconstructed = [model(reduced[i].flatten().to(device)).cpu() for i in range(n_samples)]\n",
        "\n",
        "\n",
        "#plot\n",
        "fig, ax = plt.subplots(nrows=3, ncols=n_samples, figsize=(27,14))\n",
        "for i in range(n_samples):\n",
        "  #plot original composite image\n",
        "  ax[0][i].imshow(composed[i].reshape(28*2,28*2), cmap='gray')\n",
        "  ax[0][i].set_title(f'Composed Image {i}')\n",
        "  ax[0][i].axis('off')\n",
        "\n",
        "  # #plot reduced dimension image\n",
        "  ax[1][i].imshow(reduced[i].detach().numpy().reshape(28,28), cmap='gray')\n",
        "  ax[1][i].set_title(f'Reduced to 28x28 {i}')\n",
        "  ax[1][i].axis('off')\n",
        "\n",
        "  # #plot reconstructed image\n",
        "  ax[2][i].imshow(reconstructed[i].detach().numpy().reshape(28,28), cmap='gray')\n",
        "  ax[2][i].set_title(f'Reconstructed {i}')\n",
        "  ax[2][i].axis('off')"
      ],
      "metadata": {
        "colab": {
          "base_uri": "https://localhost:8080/",
          "height": 819
        },
        "id": "J6yUMKlZ7c80",
        "outputId": "e8523d04-b7bb-4e3a-854b-2745fb68159a"
      },
      "execution_count": 27,
      "outputs": [
        {
          "output_type": "display_data",
          "data": {
            "text/plain": [
              "<Figure size 1944x1008 with 18 Axes>"
            ],
            "image/png": "[encoded data removed]"
          },
          "metadata": {
            "needs_background": "light"
          }
        }
      ]
    },
    {
      "cell_type": "markdown",
      "source": [
        "**Inference:**\n",
        "- The autoencoder is catching the shape of the digits vaguely.\n",
        "- But overall the autoencoder didnt perform well for composite images.\n",
        "- Possibly if the autoencoder was built using convolutional layers, it would have learned the features of the images, and thus could have worked for composite images too."
      ],
      "metadata": {
        "id": "kImCgPvG_MOp"
      }
    }
  ]
}