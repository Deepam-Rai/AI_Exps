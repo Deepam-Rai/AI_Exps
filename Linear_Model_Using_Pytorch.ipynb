{
 "cells": [
  {
   "cell_type": "markdown",
   "id": "6118d179-2312-432c-a1e9-96696ed046f1",
   "metadata": {},
   "source": [
    "Creating a neural network model to estimate 'y' for:   \n",
    "$y=ax+b$  "
   ]
  },
  {
   "cell_type": "markdown",
   "id": "7adedd99-eed5-47cb-9529-87412234fdc1",
   "metadata": {},
   "source": [
    "# Library Imports"
   ]
  },
  {
   "cell_type": "code",
   "execution_count": 1,
   "id": "810700e5-eb63-46c8-a970-6b14d7b033e9",
   "metadata": {},
   "outputs": [],
   "source": [
    "import torch\n",
    "import numpy as np\n",
    "import matplotlib.pyplot as plt\n",
    "\n",
    "from tqdm import tqdm\n",
    "\n",
    "import time\n",
    "np.random.seed(int(time.time()))"
   ]
  },
  {
   "cell_type": "markdown",
   "id": "5d53bd03-97f3-4884-95b9-97cb34798f07",
   "metadata": {},
   "source": [
    "# Creating Data"
   ]
  },
  {
   "cell_type": "markdown",
   "id": "3e6b87a5-c3b6-466a-a3dc-6fb91e8d1060",
   "metadata": {},
   "source": [
    "Our dataset is collection of points (x,y), basically a straight line in 2D:  \n",
    "  $y=ax+b$\n",
    " \n",
    "For simplicity 'x' and 'y' are both one-dimensional. Thus a and b are also one-dimensional."
   ]
  },
  {
   "cell_type": "code",
   "execution_count": 2,
   "id": "7abe2e27-d672-4eae-93d2-31a3918eaefb",
   "metadata": {},
   "outputs": [],
   "source": [
    "input_dim = 1\n",
    "output_dim = 1\n",
    "\n",
    "input_n = 1000 #number of datapoints"
   ]
  },
  {
   "cell_type": "code",
   "execution_count": 3,
   "id": "35de4186-1f0a-4d0f-a4b8-3762eeb5f328",
   "metadata": {},
   "outputs": [
    {
     "name": "stdout",
     "output_type": "stream",
     "text": [
      "y =  [[0.54533925]] x +  [[-0.3624885]]\n"
     ]
    }
   ],
   "source": [
    "# True Linear Model #multiply by 2 and sub 1 to include both positive-negative values\n",
    "a = 2 * np.random.rand(output_dim, input_dim) -1\n",
    "b = 2* np.random.rand(output_dim, 1) - 1\n",
    "\n",
    "true_model = lambda x: a*x + b;\n",
    "\n",
    "print(\"y = \",a,\"x + \",b)"
   ]
  },
  {
   "cell_type": "code",
   "execution_count": 4,
   "id": "c64a9846-74fb-455d-9a68-38a44f94fbc2",
   "metadata": {},
   "outputs": [],
   "source": [
    "noise_level = 0.04 #for the response\n",
    "\n",
    "X = np.random.rand(input_n,input_dim) #x; feature/predictor; dimension = (number of datapoints)x(number of features)\n",
    "y = true_model(X)  #response/target; dimension=(number of datapoints)*1\n",
    "\n",
    "#Add the noise\n",
    "y = y + noise_level * np.random.standard_normal(size=y.shape)"
   ]
  },
  {
   "cell_type": "markdown",
   "id": "6ccc35bc-088b-4895-af73-f897f5bcddda",
   "metadata": {},
   "source": [
    "## Custom Pytorch Dataset Class"
   ]
  },
  {
   "cell_type": "markdown",
   "id": "1b10105a-88ea-4c4e-8092-7c0438a38d1d",
   "metadata": {},
   "source": [
    "Pytorch demands that our dataset be wrapped in the predefined Dataset Class so that further operations become easier.  \n",
    "\n",
    "We just need to:\n",
    "  1. Create a class that extends `torch.utils.data.Dataset` class\n",
    "  1. Implement `__len__(self)` and `__getitem__(self,idx)` functions."
   ]
  },
  {
   "cell_type": "code",
   "execution_count": 5,
   "id": "fdef0f1a-9627-490b-824d-789d0ea58e48",
   "metadata": {},
   "outputs": [],
   "source": [
    "class MyDataset( torch.utils.data.Dataset):\n",
    "  def __init__(self,X,y):\n",
    "    super(MyDataset, self).__init__()\n",
    "    self.X = torch.tensor(X.astype('f'))  # needs to be a tensor for pytorch operations\n",
    "    self.y = torch.tensor(y.astype('f'))\n",
    "  \n",
    "  def __len__(self):\n",
    "    return self.X.shape[0]\n",
    "  \n",
    "  def __getitem__(self, idx):\n",
    "    sample = ( self.X[idx,:], self.y[idx,:])\n",
    "    return sample"
   ]
  },
  {
   "cell_type": "code",
   "execution_count": 6,
   "id": "8085ee23-d198-4209-a5d4-d6de6ee3c84f",
   "metadata": {},
   "outputs": [],
   "source": [
    "dataset = MyDataset(X=X, y=y)"
   ]
  },
  {
   "cell_type": "code",
   "execution_count": 7,
   "id": "074c945a-7c77-4572-b621-83e8ff58e5ff",
   "metadata": {},
   "outputs": [
    {
     "data": {
      "text/plain": [
       "(tensor([[0.4336],\n",
       "         [0.5202],\n",
       "         [0.4761],\n",
       "         [0.9661]]),\n",
       " tensor([[-0.0914],\n",
       "         [-0.0523],\n",
       "         [-0.1062],\n",
       "         [ 0.1499]]))"
      ]
     },
     "execution_count": 7,
     "metadata": {},
     "output_type": "execute_result"
    }
   ],
   "source": [
    "dataset[1:5] #returns tensor of X, then tensor of y"
   ]
  },
  {
   "cell_type": "markdown",
   "id": "189223d8-656f-4311-92e3-d7eda226f604",
   "metadata": {},
   "source": [
    "## Plotting Dataset"
   ]
  },
  {
   "cell_type": "code",
   "execution_count": 8,
   "id": "fdf449f9-9094-4cbf-8af6-c8e81a00f051",
   "metadata": {},
   "outputs": [],
   "source": [
    "def plot_linear(X,y, title=\"\"):\n",
    "  '''Helper function to plot (x,y) graph. Basically a scatterplot.'''\n",
    "  fig = plt.figure()\n",
    "  fig.clf()\n",
    "  ax = fig.gca()\n",
    "  ax.plot(X,y,'.', color='green')\n",
    "  ax.grid(True)\n",
    "  ax.set_title(title)\n",
    "  ax.set_xlabel('X')\n",
    "  ax.set_ylabel('y')"
   ]
  },
  {
   "cell_type": "markdown",
   "id": "bfa53917-b9cd-44fa-bfe4-dd3cbb08cac9",
   "metadata": {},
   "source": [
    "## Train-Test split"
   ]
  },
  {
   "cell_type": "code",
   "execution_count": 9,
   "id": "0741a86c-b52c-4730-8c0f-28fd73458567",
   "metadata": {},
   "outputs": [],
   "source": [
    "train_size = int(0.8 * len(dataset))  #split ratio train:test=80:20\n",
    "test_size = len(dataset) - train_size\n",
    "\n",
    "train_data, test_data = torch.utils.data.random_split(dataset, [train_size, test_size])"
   ]
  },
  {
   "cell_type": "code",
   "execution_count": 10,
   "id": "1a03a4d3-3b14-4b23-9839-85390cf08ced",
   "metadata": {},
   "outputs": [
    {
     "data": {
      "text/plain": [
       "800"
      ]
     },
     "execution_count": 10,
     "metadata": {},
     "output_type": "execute_result"
    }
   ],
   "source": [
    "len(train_data)"
   ]
  },
  {
   "cell_type": "code",
   "execution_count": 11,
   "id": "8972ec04-a107-42fa-9d68-d4008f0d5750",
   "metadata": {},
   "outputs": [
    {
     "data": {
      "image/png": "[encoded data removed]",
      "text/plain": [
       "<Figure size 432x288 with 1 Axes>"
      ]
     },
     "metadata": {
      "needs_background": "light"
     },
     "output_type": "display_data"
    }
   ],
   "source": [
    "# plotting the training data\n",
    "\n",
    "X_train = train_data[:][0].tolist()\n",
    "y_train = train_data[:][1].tolist()\n",
    "plot_linear(X_train, y_train, title=\"Training Data\")"
   ]
  },
  {
   "cell_type": "markdown",
   "id": "53955b96-f298-41d7-ac80-dcf210cd3121",
   "metadata": {},
   "source": [
    "## Pytorch Dataloader"
   ]
  },
  {
   "cell_type": "markdown",
   "id": "c188b343-4197-4b71-a3f6-a6d943a151b4",
   "metadata": {},
   "source": [
    "Pytorch also demands need of dataloader for the datasets.  \n",
    "It enables us to access the dataset in batches.\n",
    "\n",
    "Its a 1 line work."
   ]
  },
  {
   "cell_type": "code",
   "execution_count": 12,
   "id": "da9c06b1-aa45-4dea-9796-398a080370f8",
   "metadata": {},
   "outputs": [],
   "source": [
    "batch_size = 64\n",
    "\n",
    "train_loader = torch.utils.data.DataLoader(train_data, batch_size=batch_size, shuffle=True)"
   ]
  },
  {
   "cell_type": "code",
   "execution_count": 13,
   "id": "d06028cc-12d6-47d1-8e0e-897323695686",
   "metadata": {},
   "outputs": [
    {
     "name": "stdout",
     "output_type": "stream",
     "text": [
      "Batch no:  1 \t Batch Length: 2 \t X shape: torch.Size([64, 1]) \t y shape: torch.Size([64, 1])\n",
      "Batch no:  2 \t Batch Length: 2 \t X shape: torch.Size([64, 1]) \t y shape: torch.Size([64, 1])\n",
      "Batch no:  3 \t Batch Length: 2 \t X shape: torch.Size([64, 1]) \t y shape: torch.Size([64, 1])\n",
      "Batch no:  4 \t Batch Length: 2 \t X shape: torch.Size([64, 1]) \t y shape: torch.Size([64, 1])\n",
      "Batch no:  5 \t Batch Length: 2 \t X shape: torch.Size([64, 1]) \t y shape: torch.Size([64, 1])\n",
      "Batch no:  6 \t Batch Length: 2 \t X shape: torch.Size([64, 1]) \t y shape: torch.Size([64, 1])\n",
      "Batch no:  7 \t Batch Length: 2 \t X shape: torch.Size([64, 1]) \t y shape: torch.Size([64, 1])\n",
      "Batch no:  8 \t Batch Length: 2 \t X shape: torch.Size([64, 1]) \t y shape: torch.Size([64, 1])\n",
      "Batch no:  9 \t Batch Length: 2 \t X shape: torch.Size([64, 1]) \t y shape: torch.Size([64, 1])\n",
      "Batch no: 10 \t Batch Length: 2 \t X shape: torch.Size([64, 1]) \t y shape: torch.Size([64, 1])\n",
      "Batch no: 11 \t Batch Length: 2 \t X shape: torch.Size([64, 1]) \t y shape: torch.Size([64, 1])\n",
      "Batch no: 12 \t Batch Length: 2 \t X shape: torch.Size([64, 1]) \t y shape: torch.Size([64, 1])\n",
      "Batch no: 13 \t Batch Length: 2 \t X shape: torch.Size([32, 1]) \t y shape: torch.Size([32, 1])\n"
     ]
    }
   ],
   "source": [
    "#iterating over the dataset in batches using train loader\n",
    "# and seeing the number of datapoints in each batch.\n",
    "\n",
    "for idx, batch in enumerate(train_loader):\n",
    "  print('Batch no: %2d \\t Batch Length: %s \\t X shape: %s \\t y shape: %s' %( idx+1, len(batch), batch[0].shape, batch[1].shape))"
   ]
  },
  {
   "cell_type": "markdown",
   "id": "10b7374c-732c-42ef-9229-81b300d887f6",
   "metadata": {},
   "source": [
    "# Creating Neural Network Model"
   ]
  },
  {
   "cell_type": "markdown",
   "id": "2d22d2e8-3b41-41be-90ad-b29b7ffc5d47",
   "metadata": {},
   "source": [
    "In this Linear Problem:  \n",
    "  $y=Ax + b$\n",
    "y = 1D output = given  \n",
    "x = 1D input = given  \n",
    "A = 1D value = need to estimate  \n",
    "b = 1D value = need to estimate  \n",
    "\n",
    "But we will be creating a Neural Network which will try to find mapping from $y$ to $x$.  \n",
    "Basically underneath it would be estimating A and b though, in this case.  \n",
    "\n",
    "At a time we get one x for which one y needs to be produced.  Thus,  \n",
    "Number of neurons in Input Layer = 1  \n",
    "Number of neurons in Output Layer = 1  \n",
    "\n",
    "Because, just two unknown variables(A,b) are involved - one in multiplication to input and another a simple addition - A model with bias and without any hidden layer can estimate the function."
   ]
  },
  {
   "cell_type": "code",
   "execution_count": 14,
   "id": "3c329505-348d-4b89-bb66-54a6149ab7a6",
   "metadata": {},
   "outputs": [],
   "source": [
    "# import torch.nn as nn\n",
    "\n",
    "class LinearModel(torch.nn.Module):\n",
    "  def __init__(self, input_dim, output_dim):\n",
    "    super(LinearModel, self).__init__()\n",
    "    \n",
    "    self.input_dim = input_dim\n",
    "    self.output_dim = output_dim\n",
    "    \n",
    "    self.network = torch.nn.Linear(in_features=self.input_dim, out_features=self.output_dim, bias=True) #Direct from input layer to output layer\n",
    "  \n",
    "  def forward(self,xnew):\n",
    "    return self.network(xnew)"
   ]
  },
  {
   "cell_type": "code",
   "execution_count": 15,
   "id": "26cc71d2-0f7c-4f44-a012-6558e59b3bb5",
   "metadata": {},
   "outputs": [],
   "source": [
    "myModel = LinearModel(input_dim, output_dim)"
   ]
  },
  {
   "cell_type": "markdown",
   "id": "e5b68414-16f0-45a3-951e-3f2eb4e4f0a0",
   "metadata": {},
   "source": [
    "## Model Inspection"
   ]
  },
  {
   "cell_type": "code",
   "execution_count": 16,
   "id": "09ceba33-8990-4bf0-8f79-24609cce8d30",
   "metadata": {},
   "outputs": [
    {
     "data": {
      "text/plain": [
       "LinearModel(\n",
       "  (network): Linear(in_features=1, out_features=1, bias=True)\n",
       ")"
      ]
     },
     "execution_count": 16,
     "metadata": {},
     "output_type": "execute_result"
    }
   ],
   "source": [
    "myModel"
   ]
  },
  {
   "cell_type": "code",
   "execution_count": 17,
   "id": "fe35bff3-23d9-49f8-8f4c-29be561552c1",
   "metadata": {},
   "outputs": [
    {
     "data": {
      "text/plain": [
       "[Parameter containing:\n",
       " tensor([[-0.4757]], requires_grad=True),\n",
       " Parameter containing:\n",
       " tensor([0.7038], requires_grad=True)]"
      ]
     },
     "execution_count": 17,
     "metadata": {},
     "output_type": "execute_result"
    }
   ],
   "source": [
    "list(myModel.parameters()) #all parameters"
   ]
  },
  {
   "cell_type": "code",
   "execution_count": 18,
   "id": "2aff4a43-235d-443d-9e8e-03c97ec05378",
   "metadata": {},
   "outputs": [
    {
     "data": {
      "text/plain": [
       "Parameter containing:\n",
       "tensor([[-0.4757]], requires_grad=True)"
      ]
     },
     "execution_count": 18,
     "metadata": {},
     "output_type": "execute_result"
    }
   ],
   "source": [
    "myModel.network.weight #weights"
   ]
  },
  {
   "cell_type": "code",
   "execution_count": 19,
   "id": "da429205-af11-469a-8c6d-b81ef249842c",
   "metadata": {},
   "outputs": [
    {
     "data": {
      "text/plain": [
       "Parameter containing:\n",
       "tensor([0.7038], requires_grad=True)"
      ]
     },
     "execution_count": 19,
     "metadata": {},
     "output_type": "execute_result"
    }
   ],
   "source": [
    "myModel.network.bias #biases"
   ]
  },
  {
   "cell_type": "markdown",
   "id": "b460cc2a-9630-4659-ae65-10683af3a23f",
   "metadata": {},
   "source": [
    "## Prediction by model"
   ]
  },
  {
   "cell_type": "code",
   "execution_count": 20,
   "id": "4aba48e8-f0b8-446d-a9a5-bc8f2f7a605f",
   "metadata": {},
   "outputs": [
    {
     "data": {
      "image/png": "[encoded data removed]",
      "text/plain": [
       "<Figure size 432x288 with 1 Axes>"
      ]
     },
     "metadata": {
      "needs_background": "light"
     },
     "output_type": "display_data"
    },
    {
     "data": {
      "image/png": "[encoded data removed]",
      "text/plain": [
       "<Figure size 432x288 with 1 Axes>"
      ]
     },
     "metadata": {
      "needs_background": "light"
     },
     "output_type": "display_data"
    }
   ],
   "source": [
    "X_test = test_data[:][0]\n",
    "y_test = test_data[:][1]\n",
    "\n",
    "plot_linear(X_test.tolist(), myModel.forward(X_test).tolist(), \"Untrained Model's Prediction of y for given x's\")\n",
    "plot_linear(X_test.tolist(), y_test.tolist(), title=\"Ground Truth\")"
   ]
  },
  {
   "cell_type": "markdown",
   "id": "f9e7ca24-dc62-4543-bc4d-34db182f96cc",
   "metadata": {},
   "source": [
    "# Training the Model"
   ]
  },
  {
   "cell_type": "markdown",
   "id": "1b7377a9-f8f1-459f-a547-7f01c7898d31",
   "metadata": {},
   "source": [
    "## Loss function and optimiser"
   ]
  },
  {
   "cell_type": "code",
   "execution_count": 21,
   "id": "be00084c-34f7-400e-87da-619fc08d4d36",
   "metadata": {},
   "outputs": [],
   "source": [
    "# Using MSE loss function; loss function evaluates the performance of your model\n",
    "loss_fun = torch.nn.MSELoss(reduction='mean')\n",
    "\n",
    "\n",
    "# Using Adam optimizer; Optimizers determine \"how\" you update the weights\n",
    "lr = 0.1\n",
    "weight_decay = 5e-4\n",
    "optimizer = torch.optim.Adam(myModel.parameters(), lr=lr, weight_decay=weight_decay)\n"
   ]
  },
  {
   "cell_type": "code",
   "execution_count": 22,
   "id": "ccd674e5-422b-4327-bfb1-691a8598b980",
   "metadata": {},
   "outputs": [
    {
     "name": "stderr",
     "output_type": "stream",
     "text": [
      "100%|████████████████████████████████████████| 100/100 [00:00<00:00, 112.55it/s]\n"
     ]
    }
   ],
   "source": [
    "n_epochs = 100\n",
    "train_hist = { 'loss':[],'weights':[],'bias':[]}\n",
    "\n",
    "\n",
    "for epoch in tqdm(range(n_epochs)):\n",
    "  for idx, batch in enumerate(train_loader):\n",
    "    optimizer.zero_grad()  #clearing the previous gradients\n",
    "    loss = loss_fun( batch[1], myModel.forward(batch[0]))  #calculate the loss\n",
    "    loss.backward()      #calculate the gradients\n",
    "    optimizer.step()     #update the gradients\n",
    "    \n",
    "    train_hist['loss'].append(loss.item())\n",
    "    train_hist['weights'].append( myModel.network.weight.item())\n",
    "    train_hist['bias'].append( myModel.network.bias.item())  "
   ]
  },
  {
   "cell_type": "markdown",
   "id": "a606144d-65bc-4e4e-947e-d7986f70fe50",
   "metadata": {},
   "source": [
    "## Loss over iterations batches"
   ]
  },
  {
   "cell_type": "code",
   "execution_count": 23,
   "id": "aa52aa42-28cc-42ae-91be-b926e70f735f",
   "metadata": {},
   "outputs": [
    {
     "data": {
      "image/png": "[encoded data removed]",
      "text/plain": [
       "<Figure size 432x288 with 1 Axes>"
      ]
     },
     "metadata": {
      "needs_background": "light"
     },
     "output_type": "display_data"
    }
   ],
   "source": [
    "fig = plt.figure()\n",
    "ax = fig.gca()\n",
    "ax.loglog(np.abs(train_hist['loss']))\n",
    "ax.set_title(\"Loss over iterations batches\")\n",
    "ax.set_xlabel(\"Iterations and Batches\")\n",
    "ax.set_ylabel(\"Loss\")\n",
    "ax.grid(True)"
   ]
  },
  {
   "cell_type": "markdown",
   "id": "6bf8b6ad-07c3-4e52-9d89-215f15702f4c",
   "metadata": {},
   "source": [
    "# Predicting with the Neural Network Model"
   ]
  },
  {
   "cell_type": "code",
   "execution_count": 24,
   "id": "e07b1794-611f-4117-9661-a98462c60b50",
   "metadata": {},
   "outputs": [
    {
     "data": {
      "image/png": "[encoded data removed]",
      "text/plain": [
       "<Figure size 432x288 with 1 Axes>"
      ]
     },
     "metadata": {
      "needs_background": "light"
     },
     "output_type": "display_data"
    },
    {
     "data": {
      "image/png": "[encoded data removed]",
      "text/plain": [
       "<Figure size 432x288 with 1 Axes>"
      ]
     },
     "metadata": {
      "needs_background": "light"
     },
     "output_type": "display_data"
    }
   ],
   "source": [
    "X_test = test_data[:][0]\n",
    "y_test = test_data[:][1].tolist()\n",
    "\n",
    "y_pred = myModel.forward(X_test).tolist()\n",
    "\n",
    "plot_linear(X_test.tolist(), y_pred, \"Trained Model's Prediction of y for given x's\")\n",
    "plot_linear(X_test.tolist(), y_test, title=\"Ground Truth\")"
   ]
  },
  {
   "cell_type": "markdown",
   "id": "0164d187-8676-4321-9dc0-8d6499307dba",
   "metadata": {},
   "source": [
    "Reference:\n",
    "  - [Pytorch Geometric Tutorial Episode-2 Posted by Gabriele Santin on February 23, 2021](https://github.com/AntonioLonga/PytorchGeometricTutorial/blob/main/Tutorial2/Tutorial2.ipynb)"
   ]
  }
 ],
 "metadata": {
  "kernelspec": {
   "display_name": "Python 3 (ipykernel)",
   "language": "python",
   "name": "python3"
  },
  "language_info": {
   "codemirror_mode": {
    "name": "ipython",
    "version": 3
   },
   "file_extension": ".py",
   "mimetype": "text/x-python",
   "name": "python",
   "nbconvert_exporter": "python",
   "pygments_lexer": "ipython3",
   "version": "3.8.10"
  }
 },
 "nbformat": 4,
 "nbformat_minor": 5
}
