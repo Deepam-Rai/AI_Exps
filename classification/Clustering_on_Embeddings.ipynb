{
 "cells": [
  {
   "cell_type": "markdown",
   "metadata": {},
   "source": [
    "# About\n",
    "Compare the embedding of input text with the centroid of the embeddings of mtraining data category clusters."
   ]
  },
  {
   "cell_type": "markdown",
   "metadata": {},
   "source": [
    "Initial phase:\n",
    "1. Get embeddings of training data of all categories.\n",
    "2. Calculate the centroid of embeddings of each categories. Since each data belonging to a category would be closes to each other, naturally forming a cluster.\n",
    "  \n",
    "Inference phase:\n",
    "1. Get the embedding of the input text.\n",
    "2. Calculate similarity with the centroids of each category clusters.\n",
    "3. Based upon similarity score predict the category of input text.\n"
   ]
  },
  {
   "cell_type": "markdown",
   "metadata": {},
   "source": [
    "# Initial phase\n",
    "Get embeddings of training data and find centroid of category clusters."
   ]
  },
  {
   "cell_type": "code",
   "execution_count": 1,
   "metadata": {},
   "outputs": [],
   "source": [
    "training_data = {\n",
    "    \"affirm\": [\n",
    "        \"agreement confirmation positive Yes, I agree That’s correct or Sure I’ll do it.\",\n",
    "        \"Yes, that makes perfect sense.\",\n",
    "        \"I completely agree with you.\",\n",
    "        \"Absolutely, that’s correct.\",\n",
    "        \"Sure thing, I’ll handle it.\",\n",
    "        \"Of course, that's a great idea.\",\n",
    "        \"Definitely, I'm on board.\",\n",
    "        \"Yes, I think that's the way to go.\",\n",
    "        \"I’m with you on that.\",\n",
    "        \"Totally agree with this.\",\n",
    "        \"Sure, that works perfectly.\",\n",
    "        \"Yes, that’s exactly what I was thinking.\",\n",
    "        \"Agreed, let’s proceed with this plan.\",\n",
    "        \"Without a doubt, that’s correct.\",\n",
    "        \"Yes, I’ll get started on it right away.\",\n",
    "        \"Absolutely, I support this fully.\",\n",
    "        \"Yes, that’s a fantastic solution.\",\n",
    "        \"I’m all for it!\",\n",
    "        \"Exactly, you’ve got it right.\",\n",
    "        \"Yes, I can confirm that.\",\n",
    "        \"Certainly, that’s a valid point.\",\n",
    "    ],\n",
    "    \"deny\": [\n",
    "        \"disagreement refusal negative No, that’s not right I disagree I can’t do it.\",\n",
    "        \"No, I don’t think so.\",\n",
    "        \"That’s not what I meant at all.\",\n",
    "        \"I can’t agree with this.\",\n",
    "        \"No way, that’s incorrect.\",\n",
    "        \"No, that’s not right.\",\n",
    "        \"I disagree with that statement.\",\n",
    "        \"That’s not what I was suggesting.\",\n",
    "        \"I don’t think that’s accurate.\",\n",
    "        \"No, I can’t go along with that.\",\n",
    "        \"I’m sorry, but that’s not correct.\",\n",
    "        \"No, that’s not how I see it.\",\n",
    "        \"I have to disagree with this.\",\n",
    "        \"No, I wouldn’t support that.\",\n",
    "        \"That’s not something I can agree to.\",\n",
    "        \"I’m afraid that’s not true.\",\n",
    "        \"No, that’s the wrong approach.\",\n",
    "        \"I’m sorry, but I can’t approve that.\",\n",
    "        \"No, I don’t think that’s the right answer.\",\n",
    "        \"I can’t say I agree with that.\",\n",
    "        \"No, that’s not what I’m looking for.\",\n",
    "    ],\n",
    "    \"not_sure\": [\n",
    "        \"uncertainty doubt hesitation I’m not sure Maybe I need more information.\",\n",
    "        \"I’m not sure if this is right.\",\n",
    "        \"Maybe, but I need more information.\",\n",
    "        \"It could be true, but I’m not confident.\",\n",
    "        \"I don’t know for certain.\",\n",
    "        \"I’m uncertain about this.\",\n",
    "        \"That might be the case, but I’m not sure.\",\n",
    "        \"I can’t say for sure.\",\n",
    "        \"I’m on the fence about this.\",\n",
    "        \"It’s possible, but I’m not confident.\",\n",
    "        \"I don’t have enough information to decide.\",\n",
    "        \"I’m not entirely certain.\",\n",
    "        \"It’s hard to say for sure.\",\n",
    "        \"I’ll need more details to confirm.\",\n",
    "        \"I don’t know if that’s accurate.\",\n",
    "        \"I think so, but I’m not positive.\",\n",
    "        \"I’m not 100% sure about that.\",\n",
    "        \"It’s not clear to me yet.\",\n",
    "        \"That’s a possibility, but I can’t confirm.\",\n",
    "        \"I need to think about it more.\",\n",
    "        \"I’m not confident enough to say yes or no.\",\n",
    "    ]\n",
    "}"
   ]
  },
  {
   "cell_type": "markdown",
   "metadata": {},
   "source": [
    "## Finding centroids"
   ]
  },
  {
   "cell_type": "code",
   "execution_count": 2,
   "metadata": {},
   "outputs": [
    {
     "name": "stdout",
     "output_type": "stream",
     "text": [
      "{'affirm': array([-0.00754864,  0.01481208, -0.00321266, ..., -0.02871802,\n",
      "        0.01221373,  0.01654286]), 'deny': array([-0.00213262, -0.03951155, -0.00423656, ..., -0.00655744,\n",
      "       -0.00189465, -0.02020297]), 'not_sure': array([ 0.01186189, -0.02665525, -0.02904529, ...,  0.01180205,\n",
      "       -0.00078467, -0.03090152])}\n"
     ]
    }
   ],
   "source": [
    "import ollama\n",
    "import numpy as np\n",
    "\n",
    "MODEL = \"mxbai-embed-large\"\n",
    "HOST = \"http:/localhost:11434\"\n",
    "\n",
    "category_centroids = {}\n",
    "\n",
    "for category, data in training_data.items():\n",
    "    data_embeddings = np.array(ollama.embed(model=MODEL, input=data)[\"embeddings\"])\n",
    "    centroid = np.mean(data_embeddings, axis=0)\n",
    "    category_centroids[category] = centroid\n",
    "print(category_centroids)"
   ]
  },
  {
   "cell_type": "markdown",
   "metadata": {},
   "source": [
    "# Inference"
   ]
  },
  {
   "cell_type": "code",
   "execution_count": 3,
   "metadata": {},
   "outputs": [
    {
     "data": {
      "text/plain": [
       "'affirm'"
      ]
     },
     "execution_count": 3,
     "metadata": {},
     "output_type": "execute_result"
    }
   ],
   "source": [
    "from sklearn.metrics.pairwise import cosine_similarity\n",
    "\n",
    "\n",
    "def cal_similarity(v1, v2):\n",
    "    return cosine_similarity([v1], [v2])\n",
    "\n",
    "\n",
    "def classify(input_text: str) -> str:\n",
    "    \"\"\"\n",
    "    Args:\n",
    "        input (str): The input text that is to be classified.\n",
    "    Returns:\n",
    "        str: The predicted class of input text.\n",
    "    \"\"\"\n",
    "    input_text_embedding = ollama.embed(model=MODEL, input=input_text)[\"embeddings\"][0]\n",
    "    similarities = {\n",
    "        category: cal_similarity(input_text_embedding, category_centroid)\n",
    "        for category, category_centroid in category_centroids.items()\n",
    "    }\n",
    "    return max(similarities, key=similarities.get)\n",
    "\n",
    "\n",
    "classify(\"Yea sure!\")"
   ]
  },
  {
   "cell_type": "markdown",
   "metadata": {},
   "source": [
    "# Evaluation"
   ]
  },
  {
   "cell_type": "code",
   "execution_count": 4,
   "metadata": {},
   "outputs": [],
   "source": [
    "test_samples = [\n",
    "    # affirm Examples\n",
    "    {\"text\": \"Yes, I completely trust your judgment.\", \"category\": \"affirm\"},\n",
    "    {\"text\": \"Affirmative, that’s the correct approach.\", \"category\": \"affirm\"},\n",
    "    {\"text\": \"You’re absolutely right.\", \"category\": \"affirm\"},\n",
    "    {\"text\": \"Yes, I’ll make it happen.\", \"category\": \"affirm\"},\n",
    "    {\"text\": \"Certainly, I’ll take care of it.\", \"category\": \"affirm\"},\n",
    "    {\"text\": \"Absolutely, it’s in line with my thoughts.\", \"category\": \"affirm\"},\n",
    "    {\"text\": \"Yes, let’s move forward with that.\", \"category\": \"affirm\"},\n",
    "    {\"text\": \"Agreed, that makes total sense.\", \"category\": \"affirm\"},\n",
    "    {\"text\": \"Yes, I’m fully aligned with this.\", \"category\": \"affirm\"},\n",
    "    {\"text\": \"Indeed, that’s the correct interpretation.\", \"category\": \"affirm\"},\n",
    "    {\"text\": \"Absolutely, you’re spot on.\", \"category\": \"affirm\"},\n",
    "    {\"text\": \"Yes, I have no objections.\", \"category\": \"affirm\"},\n",
    "    {\"text\": \"I fully agree with your assessment.\", \"category\": \"affirm\"},\n",
    "    {\"text\": \"Yes, that sounds like a solid plan.\", \"category\": \"affirm\"},\n",
    "\n",
    "    # deny Examples\n",
    "    {\"text\": \"That’s incorrect, unfortunately.\", \"category\": \"deny\"},\n",
    "    {\"text\": \"I don’t support this idea.\", \"category\": \"deny\"},\n",
    "    {\"text\": \"No, I don’t see it that way.\", \"category\": \"deny\"},\n",
    "    {\"text\": \"That doesn’t seem right to me.\", \"category\": \"deny\"},\n",
    "    {\"text\": \"No, I’m afraid that won’t work.\", \"category\": \"deny\"},\n",
    "    {\"text\": \"I don’t agree with your perspective.\", \"category\": \"deny\"},\n",
    "    {\"text\": \"No, I can’t accept that.\", \"category\": \"deny\"},\n",
    "    {\"text\": \"Sorry, but that’s not the case.\", \"category\": \"deny\"},\n",
    "    {\"text\": \"I’m not in agreement with this.\", \"category\": \"deny\"},\n",
    "    {\"text\": \"No, I have to reject that.\", \"category\": \"deny\"},\n",
    "    {\"text\": \"That’s not acceptable to me.\", \"category\": \"deny\"},\n",
    "    {\"text\": \"I don’t think that’s the right solution.\", \"category\": \"deny\"},\n",
    "    {\"text\": \"No, I can’t agree to that.\", \"category\": \"deny\"},\n",
    "    {\"text\": \"I’m not convinced by this argument.\", \"category\": \"deny\"},\n",
    "\n",
    "    # not_sure Examples\n",
    "    {\"text\": \"It’s uncertain at this point.\", \"category\": \"not_sure\"},\n",
    "    {\"text\": \"I don’t know if that’s the case.\", \"category\": \"not_sure\"},\n",
    "    {\"text\": \"It’s hard to determine right now.\", \"category\": \"not_sure\"},\n",
    "    {\"text\": \"I have my doubts, but I’m not certain.\", \"category\": \"not_sure\"},\n",
    "    {\"text\": \"I can’t tell if that’s right or wrong.\", \"category\": \"not_sure\"},\n",
    "    {\"text\": \"I’d need to verify before saying for sure.\", \"category\": \"not_sure\"},\n",
    "    {\"text\": \"It’s tough to say with confidence.\", \"category\": \"not_sure\"},\n",
    "    {\"text\": \"I’m not convinced either way.\", \"category\": \"not_sure\"},\n",
    "    {\"text\": \"I’m still weighing the possibilities.\", \"category\": \"not_sure\"},\n",
    "    {\"text\": \"I don’t have a definitive answer yet.\", \"category\": \"not_sure\"},\n",
    "    {\"text\": \"That’s unclear to me right now.\", \"category\": \"not_sure\"},\n",
    "    {\"text\": \"I’ll need to look into it further.\", \"category\": \"not_sure\"},\n",
    "    {\"text\": \"I’m not sure how to interpret this.\", \"category\": \"not_sure\"},\n",
    "    {\"text\": \"It’s not something I can confirm yet.\", \"category\": \"not_sure\"}\n",
    "]\n",
    "edge_cases = [\n",
    "    # Ambiguous/Edge Cases\n",
    "    {\"text\": \"Possibly, but I’ll have to think about it.\", \"category\": \"not_sure\"},  # Uncertain tone\n",
    "    {\"text\": \"No, wait... actually, yes.\", \"category\": \"affirm\"},  # Affirmative conclusion\n",
    "    {\"text\": \"I don’t think I agree with that, but I’m not certain.\", \"category\": \"not_sure\"},  # Mixed tone\n",
    "    {\"text\": \"I’m sorry, I can’t do that.\", \"category\": \"deny\"},  # Negative with apology\n",
    "    {\"text\": \"Yes, but I’m still a bit unsure.\", \"category\": \"affirm\"},  # Affirmative with slight doubt\n",
    "    {\"text\": \"Maybe, but I’ll need more time to decide.\", \"category\": \"not_sure\"},  # Uncertain tone\n",
    "    {\"text\": \"Yes, I think so, but I’m not entirely sure.\", \"category\": \"affirm\"},  # Affirmative with slight doubt\n",
    "    {\"text\": \"No, I don’t think that’s right, or maybe it is?\", \"category\": \"not_sure\"},  # Mixed tone\n",
    "    {\"text\": \"I’m afraid I can’t agree with this.\", \"category\": \"deny\"},  # Negative with polite phrasing\n",
    "    {\"text\": \"Sure, but I’m still a little hesitant.\", \"category\": \"affirm\"},  # Affirmative with hesitation\n",
    "    {\"text\": \"I don’t think I can support this, but I’ll consider it.\", \"category\": \"not_sure\"},  # Mixed tone\n",
    "    {\"text\": \"Probably yes, but let me double-check.\", \"category\": \"affirm\"},  # Affirmative with caveat\n",
    "    {\"text\": \"No, I don’t think so, although I could be wrong.\", \"category\": \"not_sure\"},  # Negative with uncertainty\n",
    "    {\"text\": \"I don’t feel confident agreeing, but it seems plausible.\", \"category\": \"not_sure\"},  # Mixed tone\n",
    "    {\"text\": \"Yes, I agree, but let’s proceed cautiously.\", \"category\": \"affirm\"},  # Affirmative with caution\n",
    "    {\"text\": \"I can’t say yes right now.\", \"category\": \"deny\"},  # Negative with temporal constraint\n",
    "    {\"text\": \"I might be able to agree later, but not now.\", \"category\": \"not_sure\"},  # Uncertain tone with condition\n",
    "    {\"text\": \"Yes, but I’ll need further clarification.\", \"category\": \"affirm\"},  # Affirmative with condition\n",
    "    {\"text\": \"No, that’s not correct... or is it?\", \"category\": \"not_sure\"},  # Mixed tone\n",
    "    {\"text\": \"I want to agree, but I’m just not confident enough.\", \"category\": \"not_sure\"},  # Uncertain tone\n",
    "    {\"text\": \"Yes, that’s fine, but I still have reservations.\", \"category\": \"affirm\"},  # Affirmative with reservations\n",
    "    {\"text\": \"I don’t think I can agree to this, sorry.\", \"category\": \"deny\"},  # Negative with apology\n",
    "    {\"text\": \"I’m leaning towards yes, but I’m not fully committed.\", \"category\": \"not_sure\"},  # Mixed tone\n",
    "    {\"text\": \"Yes, I’ll agree for now.\", \"category\": \"affirm\"},  # Affirmative with temporal qualifier\n",
    "    {\"text\": \"No, I can’t agree at this point in time.\", \"category\": \"deny\"},  # Negative with temporal constraint\n",
    "    {\"text\": \"Possibly yes, but it depends on further details.\", \"category\": \"not_sure\"},  # Uncertain tone\n",
    "    {\"text\": \"Yes, but with some conditions attached.\", \"category\": \"affirm\"},  # Affirmative with caveat\n",
    "    {\"text\": \"I don’t agree with that, but I see your point.\", \"category\": \"deny\"},  # Negative with acknowledgment\n",
    "    {\"text\": \"I think so, but I wouldn’t bet on it.\", \"category\": \"not_sure\"},  # Mixed tone\n",
    "    {\"text\": \"No, not really, but I’m open to being convinced.\", \"category\": \"deny\"},  # Negative with openness\n",
    "    {\"text\": \"Sure, but I’m hesitant to commit completely.\", \"category\": \"affirm\"},  # Affirmative with hesitation\n",
    "    {\"text\": \"I don’t know if I can agree yet.\", \"category\": \"not_sure\"},  # Uncertain tone\n",
    "    {\"text\": \"No, that doesn’t work for me right now.\", \"category\": \"deny\"},  # Negative with temporal specificity\n",
    "    {\"text\": \"Yes, but I still need to verify a few things.\", \"category\": \"affirm\"},  # Affirmative with condition\n",
    "    {\"text\": \"No, I think that’s incorrect, although I’m not entirely certain.\", \"category\": \"not_sure\"}  # Mixed tone\n",
    "]"
   ]
  },
  {
   "cell_type": "code",
   "execution_count": 5,
   "metadata": {},
   "outputs": [
    {
     "data": {
      "image/png": "[encoded data removed]",
      "text/plain": [
       "<Figure size 640x480 with 2 Axes>"
      ]
     },
     "metadata": {},
     "output_type": "display_data"
    },
    {
     "name": "stdout",
     "output_type": "stream",
     "text": [
      "not_sure : affirm : Yes, but I’m still a bit unsure.\n",
      "not_sure : affirm : Yes, I think so, but I’m not entirely sure.\n",
      "deny : not_sure : No, I don’t think that’s right, or maybe it is?\n",
      "not_sure : affirm : Sure, but I’m still a little hesitant.\n",
      "deny : not_sure : I don’t think I can support this, but I’ll consider it.\n",
      "not_sure : affirm : Probably yes, but let me double-check.\n",
      "not_sure : affirm : Yes, I agree, but let’s proceed cautiously.\n",
      "not_sure : deny : I can’t say yes right now.\n",
      "not_sure : affirm : Yes, but I’ll need further clarification.\n",
      "deny : not_sure : No, that’s not correct... or is it?\n",
      "not_sure : affirm : Yes, that’s fine, but I still have reservations.\n",
      "not_sure : deny : No, not really, but I’m open to being convinced.\n",
      "not_sure : affirm : Sure, but I’m hesitant to commit completely.\n",
      "not_sure : affirm : Yes, but I still need to verify a few things.\n"
     ]
    },
    {
     "data": {
      "image/png": "[encoded data removed]",
      "text/plain": [
       "<Figure size 640x480 with 2 Axes>"
      ]
     },
     "metadata": {},
     "output_type": "display_data"
    },
    {
     "name": "stdout",
     "output_type": "stream",
     "text": [
      "Full(edge cases included) classification report:\n",
      "              precision    recall  f1-score   support\n",
      "\n",
      "      affirm       1.00      0.78      0.87        40\n",
      "        deny       0.92      0.94      0.93        36\n",
      "    not_sure       0.78      0.93      0.85        43\n",
      "\n",
      "    accuracy                           0.88       119\n",
      "   macro avg       0.90      0.88      0.89       119\n",
      "weighted avg       0.90      0.88      0.88       119\n",
      "\n"
     ]
    }
   ],
   "source": [
    "from sklearn.metrics import confusion_matrix, ConfusionMatrixDisplay, classification_report\n",
    "from matplotlib import pyplot as plt\n",
    "\n",
    "true_categories = []\n",
    "predicted_categories = []\n",
    "\n",
    "test_data = test_samples\n",
    "for sample in test_data:\n",
    "    predicted = classify(sample[\"text\"])\n",
    "    true_categories.append(sample[\"category\"])\n",
    "    predicted_categories.append(predicted)\n",
    "    if predicted != sample[\"category\"]:\n",
    "        print(f'{predicted} : {sample[\"category\"]} : {sample[\"text\"]}')\n",
    "\n",
    "# display confusino matrix\n",
    "cm = confusion_matrix(true_categories, predicted_categories, labels=list(category_centroids.keys()))\n",
    "disp = ConfusionMatrixDisplay(confusion_matrix=cm, display_labels=category_centroids.keys())\n",
    "disp.plot(cmap=plt.cm.Blues)\n",
    "plt.title(\"Confusion matrix (edge cases not included)\")\n",
    "plt.show()\n",
    "\n",
    "test_data = test_data + edge_cases\n",
    "for sample in test_data:\n",
    "    predicted = classify(sample[\"text\"])\n",
    "    true_categories.append(sample[\"category\"])\n",
    "    predicted_categories.append(predicted)\n",
    "    if predicted != sample[\"category\"]:\n",
    "        print(f'{predicted} : {sample[\"category\"]} : {sample[\"text\"]}')\n",
    "\n",
    "# display confusino matrix\n",
    "cm = confusion_matrix(true_categories, predicted_categories, labels=list(category_centroids.keys()))\n",
    "disp = ConfusionMatrixDisplay(confusion_matrix=cm, display_labels=category_centroids.keys())\n",
    "disp.plot(cmap=plt.cm.Blues)\n",
    "plt.title(\"Confusion matrix (edge cases included)\")\n",
    "plt.show()\n",
    "\n",
    "# print classification report\n",
    "print(\"Full(edge cases included) classification report:\")\n",
    "report = classification_report(true_categories, predicted_categories, labels=list(category_centroids.keys()))\n",
    "print(report)"
   ]
  },
  {
   "cell_type": "markdown",
   "metadata": {},
   "source": [
    "Improvement Prospectives:\n",
    "- More varied training data. Better embedding model."
   ]
  }
 ],
 "metadata": {
  "kernelspec": {
   "display_name": "ai",
   "language": "python",
   "name": "python3"
  },
  "language_info": {
   "codemirror_mode": {
    "name": "ipython",
    "version": 3
   },
   "file_extension": ".py",
   "mimetype": "text/x-python",
   "name": "python",
   "nbconvert_exporter": "python",
   "pygments_lexer": "ipython3",
   "version": "3.8.18"
  }
 },
 "nbformat": 4,
 "nbformat_minor": 2
}
