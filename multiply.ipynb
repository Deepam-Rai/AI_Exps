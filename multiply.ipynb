{
 "cells": [
  {
   "cell_type": "code",
   "execution_count": 1,
   "id": "8c8165f8-9aa3-4c57-b04e-9410a6b6415c",
   "metadata": {},
   "outputs": [],
   "source": [
    "import torch\n",
    "import torch.nn as nn\n",
    "\n",
    "from torch.utils.data import Dataset, DataLoader\n",
    "\n",
    "import numpy as np"
   ]
  },
  {
   "cell_type": "markdown",
   "id": "4bdf9f34-2640-4f58-ad1a-913d46f3ee14",
   "metadata": {},
   "source": [
    "# Creating Dataset and DataLoaders"
   ]
  },
  {
   "cell_type": "code",
   "execution_count": 2,
   "id": "190dd928-801f-4c86-bb06-83bb9825a52d",
   "metadata": {},
   "outputs": [],
   "source": [
    "class Products(Dataset):\n",
    "  def __init__(self,N):\n",
    "    super(Products, self).__init__()\n",
    "    self.N = N\n",
    "    A = torch.rand(N)\n",
    "    B = torch.rand(N)\n",
    "    self.X = torch.tensor(list(zip(A,B)))\n",
    "    self.P = (A*B).reshape(-1,1)\n",
    "  \n",
    "  def __len__(self):\n",
    "    return len(self.P)\n",
    "  def __getitem__(self,idx):\n",
    "    return (self.X[idx], self.P[idx])\n",
    "  \n",
    "  def shapes(self):\n",
    "    print(\"A shape:\", self.A.shape)\n",
    "    print(\"B shape:\", self.B.shape)\n",
    "    print(\"P shape:\", self.P.shape)"
   ]
  },
  {
   "cell_type": "code",
   "execution_count": 3,
   "id": "e481e37d-c206-4e05-a897-3a5b5f115bec",
   "metadata": {},
   "outputs": [],
   "source": [
    "train_data = Products(100000)\n",
    "val_data = Products(1000)\n",
    "test_data = Products(5000)"
   ]
  },
  {
   "cell_type": "code",
   "execution_count": 4,
   "id": "2b3c5326-ebf0-492e-a613-9a0bc8bc43e7",
   "metadata": {},
   "outputs": [],
   "source": [
    "train_loader = DataLoader(train_data, batch_size=128, shuffle=True)\n",
    "\n",
    "val_loader = DataLoader(val_data, batch_size=128, shuffle=True)\n",
    "\n",
    "test_loader = DataLoader(test_data, batch_size=128, shuffle=True)"
   ]
  },
  {
   "cell_type": "markdown",
   "id": "c8b11249-419e-4c71-ae1e-43f808bc02f0",
   "metadata": {},
   "source": [
    "# Create Model"
   ]
  },
  {
   "cell_type": "code",
   "execution_count": 5,
   "id": "0c80dc62-21b0-4a8f-92c6-d50196a311d2",
   "metadata": {},
   "outputs": [
    {
     "name": "stdout",
     "output_type": "stream",
     "text": [
      "Multiplier(\n",
      "  (network): Sequential(\n",
      "    (0): Linear(in_features=2, out_features=64, bias=True)\n",
      "    (1): LeakyReLU(negative_slope=0.01)\n",
      "    (2): Linear(in_features=64, out_features=128, bias=True)\n",
      "    (3): LeakyReLU(negative_slope=0.01)\n",
      "    (4): Linear(in_features=128, out_features=32, bias=True)\n",
      "    (5): LeakyReLU(negative_slope=0.01)\n",
      "    (6): Linear(in_features=32, out_features=1, bias=True)\n",
      "    (7): LeakyReLU(negative_slope=0.01)\n",
      "  )\n",
      ")\n"
     ]
    }
   ],
   "source": [
    "class Multiplier(nn.Module):\n",
    "  def __init__(self):\n",
    "    super(Multiplier,self).__init__()\n",
    "    \n",
    "    self.network = nn.Sequential(\n",
    "      nn.Linear(in_features=2, out_features=64, bias=True),\n",
    "      nn.LeakyReLU(),\n",
    "      nn.Linear(in_features=64, out_features=128, bias=True),\n",
    "      nn.LeakyReLU(),\n",
    "      nn.Linear(in_features=128, out_features=32, bias=True),\n",
    "      nn.LeakyReLU(),\n",
    "      nn.Linear(in_features=32, out_features=1, bias=True),\n",
    "      nn.LeakyReLU(),\n",
    "    )\n",
    "  \n",
    "  def forward(self, x):\n",
    "    h = self.network(x)\n",
    "    return h\n",
    "\n",
    "model = Multiplier()\n",
    "print(model)"
   ]
  },
  {
   "cell_type": "markdown",
   "id": "408c068b-3172-41c3-97f8-50743f2c10aa",
   "metadata": {},
   "source": [
    "# Train Model"
   ]
  },
  {
   "cell_type": "code",
   "execution_count": 6,
   "id": "e3b8f8d2-aa97-487b-a4aa-c16158687c5d",
   "metadata": {},
   "outputs": [
    {
     "name": "stdout",
     "output_type": "stream",
     "text": [
      "Optimizer: Adam (\n",
      "Parameter Group 0\n",
      "    amsgrad: False\n",
      "    betas: (0.9, 0.999)\n",
      "    capturable: False\n",
      "    eps: 1e-08\n",
      "    foreach: None\n",
      "    lr: 0.01\n",
      "    maximize: False\n",
      "    weight_decay: 0\n",
      ")\n"
     ]
    }
   ],
   "source": [
    "lr = 0.01\n",
    "\n",
    "loss_fn = nn.MSELoss()\n",
    "optimizer = torch.optim.Adam(model.parameters(), lr=lr)\n",
    "print(\"Optimizer:\", optimizer)"
   ]
  },
  {
   "cell_type": "code",
   "execution_count": 7,
   "id": "a371d099-e52c-4cc8-8c06-a73c6afee06c",
   "metadata": {},
   "outputs": [],
   "source": [
    "# X,Y = next(iter(train_loader))\n",
    "# X[0]\n",
    "# len(val_loader)"
   ]
  },
  {
   "cell_type": "code",
   "execution_count": 8,
   "id": "02c23850-114b-49b8-a065-23176f05a22d",
   "metadata": {},
   "outputs": [
    {
     "name": "stderr",
     "output_type": "stream",
     "text": [
      "100%|█████████████████████████████████████████| 100/100 [02:26<00:00,  1.46s/it]\n"
     ]
    }
   ],
   "source": [
    "n_epoch = 60\n",
    "total_train_loss = []\n",
    "total_val_loss = []\n",
    "\n",
    "from tqdm import tqdm\n",
    "\n",
    "for epoch in tqdm(range(n_epoch)):\n",
    "  train_loss = 0\n",
    "  for X, Y in train_loader:\n",
    "    #clear the gradients\n",
    "    optimizer.zero_grad()\n",
    "    #predict\n",
    "    y_pred = model.forward(X)\n",
    "    #calculate loss\n",
    "    loss = loss_fn(y_pred, Y)\n",
    "    #calculate gradients\n",
    "    loss.backward()\n",
    "    #update parameters\n",
    "    optimizer.step()\n",
    "    \n",
    "    #record keeping\n",
    "    train_loss += loss.item()\n",
    "  train_loss = train_loss/len(train_loader)\n",
    "  total_train_loss.append(train_loss)\n",
    "  \n",
    "  #validation\n",
    "  val_loss = 0\n",
    "  for X, Y in val_loader:\n",
    "    #predict\n",
    "    y_pred = model.forward(X)\n",
    "    #calculate loss\n",
    "    loss = loss_fn(y_pred, Y)\n",
    "    \n",
    "    #record keeping\n",
    "    val_loss += loss.item()\n",
    "  val_loss = val_loss/len(val_loader)\n",
    "  total_val_loss.append(val_loss)\n",
    "  # print(f'Epoch={epoch}/{n_epoch}\\t Train loss={train_loss}\\t Val loss={val_loss}')"
   ]
  },
  {
   "cell_type": "code",
   "execution_count": 9,
   "id": "99bb3d8f-4fd9-4b8b-b32d-8d046a0dd429",
   "metadata": {},
   "outputs": [
    {
     "data": {
      "text/plain": [
       "[<matplotlib.lines.Line2D at 0x7f4c2660c8e0>]"
      ]
     },
     "execution_count": 9,
     "metadata": {},
     "output_type": "execute_result"
    },
    {
     "data": {
      "image/png": "[encoded data removed]",
      "text/plain": [
       "<Figure size 432x288 with 1 Axes>"
      ]
     },
     "metadata": {
      "needs_background": "light"
     },
     "output_type": "display_data"
    }
   ],
   "source": [
    "import matplotlib.pyplot as plt\n",
    "\n",
    "plt.plot(total_train_loss)\n",
    "plt.plot(total_val_loss)"
   ]
  },
  {
   "cell_type": "markdown",
   "id": "550eb656-bded-48ea-8cc3-6490c35cf2b2",
   "metadata": {},
   "source": [
    "# Test"
   ]
  },
  {
   "cell_type": "code",
   "execution_count": 11,
   "id": "52fbe9a1-c4f8-477d-a5a7-043cc09402fe",
   "metadata": {},
   "outputs": [
    {
     "name": "stdout",
     "output_type": "stream",
     "text": [
      "Average test loss =  7.4819269684667235e-06\n"
     ]
    }
   ],
   "source": [
    "total_loss = 0\n",
    "\n",
    "for X, Y in test_loader:\n",
    "  #predict\n",
    "  y_pred = model.forward(X)\n",
    "  #calculate loss\n",
    "  loss = loss_fn(y_pred, Y)\n",
    "\n",
    "  #record keeping\n",
    "  total_loss += loss.item()\n",
    "\n",
    "total_loss = total_loss/len(test_loader)\n",
    "print(\"Average test loss = \",total_loss)"
   ]
  },
  {
   "cell_type": "code",
   "execution_count": 18,
   "id": "7f550236-c1a6-4bd3-8bd2-43d06a2b01dd",
   "metadata": {},
   "outputs": [
    {
     "data": {
      "text/plain": [
       "tensor([0.0920], grad_fn=<LeakyReluBackward0>)"
      ]
     },
     "execution_count": 18,
     "metadata": {},
     "output_type": "execute_result"
    }
   ],
   "source": [
    "model.forward(torch.tensor([0.1,0.9]))"
   ]
  }
 ],
 "metadata": {
  "kernelspec": {
   "display_name": "Python 3 (ipykernel)",
   "language": "python",
   "name": "python3"
  },
  "language_info": {
   "codemirror_mode": {
    "name": "ipython",
    "version": 3
   },
   "file_extension": ".py",
   "mimetype": "text/x-python",
   "name": "python",
   "nbconvert_exporter": "python",
   "pygments_lexer": "ipython3",
   "version": "3.8.10"
  }
 },
 "nbformat": 4,
 "nbformat_minor": 5
}
